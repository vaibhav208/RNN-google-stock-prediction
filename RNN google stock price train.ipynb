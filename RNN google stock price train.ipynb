{
 "cells": [
  {
   "cell_type": "code",
   "execution_count": 1,
   "id": "82c90055-79a4-4b7f-9108-37ce45f57c4b",
   "metadata": {},
   "outputs": [],
   "source": [
    "import pandas as pd"
   ]
  },
  {
   "cell_type": "code",
   "execution_count": 7,
   "id": "e41b6ff7-b839-4fa6-8fab-24e5e416c607",
   "metadata": {},
   "outputs": [],
   "source": [
    "dataset_train = pd.read_csv(\"Google_Stock_Price_Train.csv\" , index_col=0)"
   ]
  },
  {
   "cell_type": "code",
   "execution_count": 9,
   "id": "76570d50-741c-445d-b7c8-f9e585d19fbf",
   "metadata": {},
   "outputs": [
    {
     "data": {
      "text/html": [
       "<div>\n",
       "<style scoped>\n",
       "    .dataframe tbody tr th:only-of-type {\n",
       "        vertical-align: middle;\n",
       "    }\n",
       "\n",
       "    .dataframe tbody tr th {\n",
       "        vertical-align: top;\n",
       "    }\n",
       "\n",
       "    .dataframe thead th {\n",
       "        text-align: right;\n",
       "    }\n",
       "</style>\n",
       "<table border=\"1\" class=\"dataframe\">\n",
       "  <thead>\n",
       "    <tr style=\"text-align: right;\">\n",
       "      <th></th>\n",
       "      <th>Open</th>\n",
       "      <th>High</th>\n",
       "      <th>Low</th>\n",
       "      <th>Close</th>\n",
       "      <th>Volume</th>\n",
       "    </tr>\n",
       "    <tr>\n",
       "      <th>Date</th>\n",
       "      <th></th>\n",
       "      <th></th>\n",
       "      <th></th>\n",
       "      <th></th>\n",
       "      <th></th>\n",
       "    </tr>\n",
       "  </thead>\n",
       "  <tbody>\n",
       "    <tr>\n",
       "      <th>1/3/2012</th>\n",
       "      <td>325.25</td>\n",
       "      <td>332.83</td>\n",
       "      <td>324.97</td>\n",
       "      <td>663.59</td>\n",
       "      <td>7,380,500</td>\n",
       "    </tr>\n",
       "    <tr>\n",
       "      <th>1/4/2012</th>\n",
       "      <td>331.27</td>\n",
       "      <td>333.87</td>\n",
       "      <td>329.08</td>\n",
       "      <td>666.45</td>\n",
       "      <td>5,749,400</td>\n",
       "    </tr>\n",
       "    <tr>\n",
       "      <th>1/5/2012</th>\n",
       "      <td>329.83</td>\n",
       "      <td>330.75</td>\n",
       "      <td>326.89</td>\n",
       "      <td>657.21</td>\n",
       "      <td>6,590,300</td>\n",
       "    </tr>\n",
       "    <tr>\n",
       "      <th>1/6/2012</th>\n",
       "      <td>328.34</td>\n",
       "      <td>328.77</td>\n",
       "      <td>323.68</td>\n",
       "      <td>648.24</td>\n",
       "      <td>5,405,900</td>\n",
       "    </tr>\n",
       "    <tr>\n",
       "      <th>1/9/2012</th>\n",
       "      <td>322.04</td>\n",
       "      <td>322.29</td>\n",
       "      <td>309.46</td>\n",
       "      <td>620.76</td>\n",
       "      <td>11,688,800</td>\n",
       "    </tr>\n",
       "    <tr>\n",
       "      <th>...</th>\n",
       "      <td>...</td>\n",
       "      <td>...</td>\n",
       "      <td>...</td>\n",
       "      <td>...</td>\n",
       "      <td>...</td>\n",
       "    </tr>\n",
       "    <tr>\n",
       "      <th>12/23/2016</th>\n",
       "      <td>790.90</td>\n",
       "      <td>792.74</td>\n",
       "      <td>787.28</td>\n",
       "      <td>789.91</td>\n",
       "      <td>623,400</td>\n",
       "    </tr>\n",
       "    <tr>\n",
       "      <th>12/27/2016</th>\n",
       "      <td>790.68</td>\n",
       "      <td>797.86</td>\n",
       "      <td>787.66</td>\n",
       "      <td>791.55</td>\n",
       "      <td>789,100</td>\n",
       "    </tr>\n",
       "    <tr>\n",
       "      <th>12/28/2016</th>\n",
       "      <td>793.70</td>\n",
       "      <td>794.23</td>\n",
       "      <td>783.20</td>\n",
       "      <td>785.05</td>\n",
       "      <td>1,153,800</td>\n",
       "    </tr>\n",
       "    <tr>\n",
       "      <th>12/29/2016</th>\n",
       "      <td>783.33</td>\n",
       "      <td>785.93</td>\n",
       "      <td>778.92</td>\n",
       "      <td>782.79</td>\n",
       "      <td>744,300</td>\n",
       "    </tr>\n",
       "    <tr>\n",
       "      <th>12/30/2016</th>\n",
       "      <td>782.75</td>\n",
       "      <td>782.78</td>\n",
       "      <td>770.41</td>\n",
       "      <td>771.82</td>\n",
       "      <td>1,770,000</td>\n",
       "    </tr>\n",
       "  </tbody>\n",
       "</table>\n",
       "<p>1258 rows × 5 columns</p>\n",
       "</div>"
      ],
      "text/plain": [
       "              Open    High     Low   Close      Volume\n",
       "Date                                                  \n",
       "1/3/2012    325.25  332.83  324.97  663.59   7,380,500\n",
       "1/4/2012    331.27  333.87  329.08  666.45   5,749,400\n",
       "1/5/2012    329.83  330.75  326.89  657.21   6,590,300\n",
       "1/6/2012    328.34  328.77  323.68  648.24   5,405,900\n",
       "1/9/2012    322.04  322.29  309.46  620.76  11,688,800\n",
       "...            ...     ...     ...     ...         ...\n",
       "12/23/2016  790.90  792.74  787.28  789.91     623,400\n",
       "12/27/2016  790.68  797.86  787.66  791.55     789,100\n",
       "12/28/2016  793.70  794.23  783.20  785.05   1,153,800\n",
       "12/29/2016  783.33  785.93  778.92  782.79     744,300\n",
       "12/30/2016  782.75  782.78  770.41  771.82   1,770,000\n",
       "\n",
       "[1258 rows x 5 columns]"
      ]
     },
     "execution_count": 9,
     "metadata": {},
     "output_type": "execute_result"
    }
   ],
   "source": [
    "dataset_train"
   ]
  },
  {
   "cell_type": "code",
   "execution_count": 103,
   "id": "051c2983-44c7-42ee-92f6-478d50741d06",
   "metadata": {},
   "outputs": [],
   "source": [
    "data_test = pd.read_csv(\"Google_Stock_Price_Test.csv\", index_col=0)"
   ]
  },
  {
   "cell_type": "code",
   "execution_count": 105,
   "id": "1cd061f2-513d-4a09-9123-1c637ec3f7cb",
   "metadata": {},
   "outputs": [
    {
     "data": {
      "text/html": [
       "<div>\n",
       "<style scoped>\n",
       "    .dataframe tbody tr th:only-of-type {\n",
       "        vertical-align: middle;\n",
       "    }\n",
       "\n",
       "    .dataframe tbody tr th {\n",
       "        vertical-align: top;\n",
       "    }\n",
       "\n",
       "    .dataframe thead th {\n",
       "        text-align: right;\n",
       "    }\n",
       "</style>\n",
       "<table border=\"1\" class=\"dataframe\">\n",
       "  <thead>\n",
       "    <tr style=\"text-align: right;\">\n",
       "      <th></th>\n",
       "      <th>Open</th>\n",
       "      <th>High</th>\n",
       "      <th>Low</th>\n",
       "      <th>Close</th>\n",
       "      <th>Volume</th>\n",
       "    </tr>\n",
       "    <tr>\n",
       "      <th>Date</th>\n",
       "      <th></th>\n",
       "      <th></th>\n",
       "      <th></th>\n",
       "      <th></th>\n",
       "      <th></th>\n",
       "    </tr>\n",
       "  </thead>\n",
       "  <tbody>\n",
       "    <tr>\n",
       "      <th>1/3/2017</th>\n",
       "      <td>778.81</td>\n",
       "      <td>789.63</td>\n",
       "      <td>775.80</td>\n",
       "      <td>786.14</td>\n",
       "      <td>1,657,300</td>\n",
       "    </tr>\n",
       "    <tr>\n",
       "      <th>1/4/2017</th>\n",
       "      <td>788.36</td>\n",
       "      <td>791.34</td>\n",
       "      <td>783.16</td>\n",
       "      <td>786.90</td>\n",
       "      <td>1,073,000</td>\n",
       "    </tr>\n",
       "    <tr>\n",
       "      <th>1/5/2017</th>\n",
       "      <td>786.08</td>\n",
       "      <td>794.48</td>\n",
       "      <td>785.02</td>\n",
       "      <td>794.02</td>\n",
       "      <td>1,335,200</td>\n",
       "    </tr>\n",
       "    <tr>\n",
       "      <th>1/6/2017</th>\n",
       "      <td>795.26</td>\n",
       "      <td>807.90</td>\n",
       "      <td>792.20</td>\n",
       "      <td>806.15</td>\n",
       "      <td>1,640,200</td>\n",
       "    </tr>\n",
       "    <tr>\n",
       "      <th>1/9/2017</th>\n",
       "      <td>806.40</td>\n",
       "      <td>809.97</td>\n",
       "      <td>802.83</td>\n",
       "      <td>806.65</td>\n",
       "      <td>1,272,400</td>\n",
       "    </tr>\n",
       "    <tr>\n",
       "      <th>1/10/2017</th>\n",
       "      <td>807.86</td>\n",
       "      <td>809.13</td>\n",
       "      <td>803.51</td>\n",
       "      <td>804.79</td>\n",
       "      <td>1,176,800</td>\n",
       "    </tr>\n",
       "    <tr>\n",
       "      <th>1/11/2017</th>\n",
       "      <td>805.00</td>\n",
       "      <td>808.15</td>\n",
       "      <td>801.37</td>\n",
       "      <td>807.91</td>\n",
       "      <td>1,065,900</td>\n",
       "    </tr>\n",
       "    <tr>\n",
       "      <th>1/12/2017</th>\n",
       "      <td>807.14</td>\n",
       "      <td>807.39</td>\n",
       "      <td>799.17</td>\n",
       "      <td>806.36</td>\n",
       "      <td>1,353,100</td>\n",
       "    </tr>\n",
       "    <tr>\n",
       "      <th>1/13/2017</th>\n",
       "      <td>807.48</td>\n",
       "      <td>811.22</td>\n",
       "      <td>806.69</td>\n",
       "      <td>807.88</td>\n",
       "      <td>1,099,200</td>\n",
       "    </tr>\n",
       "    <tr>\n",
       "      <th>1/17/2017</th>\n",
       "      <td>807.08</td>\n",
       "      <td>807.14</td>\n",
       "      <td>800.37</td>\n",
       "      <td>804.61</td>\n",
       "      <td>1,362,100</td>\n",
       "    </tr>\n",
       "    <tr>\n",
       "      <th>1/18/2017</th>\n",
       "      <td>805.81</td>\n",
       "      <td>806.21</td>\n",
       "      <td>800.99</td>\n",
       "      <td>806.07</td>\n",
       "      <td>1,294,400</td>\n",
       "    </tr>\n",
       "    <tr>\n",
       "      <th>1/19/2017</th>\n",
       "      <td>805.12</td>\n",
       "      <td>809.48</td>\n",
       "      <td>801.80</td>\n",
       "      <td>802.17</td>\n",
       "      <td>919,300</td>\n",
       "    </tr>\n",
       "    <tr>\n",
       "      <th>1/20/2017</th>\n",
       "      <td>806.91</td>\n",
       "      <td>806.91</td>\n",
       "      <td>801.69</td>\n",
       "      <td>805.02</td>\n",
       "      <td>1,670,000</td>\n",
       "    </tr>\n",
       "    <tr>\n",
       "      <th>1/23/2017</th>\n",
       "      <td>807.25</td>\n",
       "      <td>820.87</td>\n",
       "      <td>803.74</td>\n",
       "      <td>819.31</td>\n",
       "      <td>1,963,600</td>\n",
       "    </tr>\n",
       "    <tr>\n",
       "      <th>1/24/2017</th>\n",
       "      <td>822.30</td>\n",
       "      <td>825.90</td>\n",
       "      <td>817.82</td>\n",
       "      <td>823.87</td>\n",
       "      <td>1,474,000</td>\n",
       "    </tr>\n",
       "    <tr>\n",
       "      <th>1/25/2017</th>\n",
       "      <td>829.62</td>\n",
       "      <td>835.77</td>\n",
       "      <td>825.06</td>\n",
       "      <td>835.67</td>\n",
       "      <td>1,494,500</td>\n",
       "    </tr>\n",
       "    <tr>\n",
       "      <th>1/26/2017</th>\n",
       "      <td>837.81</td>\n",
       "      <td>838.00</td>\n",
       "      <td>827.01</td>\n",
       "      <td>832.15</td>\n",
       "      <td>2,973,900</td>\n",
       "    </tr>\n",
       "    <tr>\n",
       "      <th>1/27/2017</th>\n",
       "      <td>834.71</td>\n",
       "      <td>841.95</td>\n",
       "      <td>820.44</td>\n",
       "      <td>823.31</td>\n",
       "      <td>2,965,800</td>\n",
       "    </tr>\n",
       "    <tr>\n",
       "      <th>1/30/2017</th>\n",
       "      <td>814.66</td>\n",
       "      <td>815.84</td>\n",
       "      <td>799.80</td>\n",
       "      <td>802.32</td>\n",
       "      <td>3,246,600</td>\n",
       "    </tr>\n",
       "    <tr>\n",
       "      <th>1/31/2017</th>\n",
       "      <td>796.86</td>\n",
       "      <td>801.25</td>\n",
       "      <td>790.52</td>\n",
       "      <td>796.79</td>\n",
       "      <td>2,160,600</td>\n",
       "    </tr>\n",
       "  </tbody>\n",
       "</table>\n",
       "</div>"
      ],
      "text/plain": [
       "             Open    High     Low   Close     Volume\n",
       "Date                                                \n",
       "1/3/2017   778.81  789.63  775.80  786.14  1,657,300\n",
       "1/4/2017   788.36  791.34  783.16  786.90  1,073,000\n",
       "1/5/2017   786.08  794.48  785.02  794.02  1,335,200\n",
       "1/6/2017   795.26  807.90  792.20  806.15  1,640,200\n",
       "1/9/2017   806.40  809.97  802.83  806.65  1,272,400\n",
       "1/10/2017  807.86  809.13  803.51  804.79  1,176,800\n",
       "1/11/2017  805.00  808.15  801.37  807.91  1,065,900\n",
       "1/12/2017  807.14  807.39  799.17  806.36  1,353,100\n",
       "1/13/2017  807.48  811.22  806.69  807.88  1,099,200\n",
       "1/17/2017  807.08  807.14  800.37  804.61  1,362,100\n",
       "1/18/2017  805.81  806.21  800.99  806.07  1,294,400\n",
       "1/19/2017  805.12  809.48  801.80  802.17    919,300\n",
       "1/20/2017  806.91  806.91  801.69  805.02  1,670,000\n",
       "1/23/2017  807.25  820.87  803.74  819.31  1,963,600\n",
       "1/24/2017  822.30  825.90  817.82  823.87  1,474,000\n",
       "1/25/2017  829.62  835.77  825.06  835.67  1,494,500\n",
       "1/26/2017  837.81  838.00  827.01  832.15  2,973,900\n",
       "1/27/2017  834.71  841.95  820.44  823.31  2,965,800\n",
       "1/30/2017  814.66  815.84  799.80  802.32  3,246,600\n",
       "1/31/2017  796.86  801.25  790.52  796.79  2,160,600"
      ]
     },
     "execution_count": 105,
     "metadata": {},
     "output_type": "execute_result"
    }
   ],
   "source": [
    "data_test"
   ]
  },
  {
   "cell_type": "code",
   "execution_count": 107,
   "id": "65cbfb0e-6b3e-4a8b-ac99-11f9a431721e",
   "metadata": {},
   "outputs": [],
   "source": [
    "import matplotlib.pyplot as plt"
   ]
  },
  {
   "cell_type": "code",
   "execution_count": 109,
   "id": "48cf14c9-4f54-4ed2-b723-8028055afa76",
   "metadata": {},
   "outputs": [
    {
     "data": {
      "text/plain": [
       "[<matplotlib.lines.Line2D at 0x1947953c2c0>]"
      ]
     },
     "execution_count": 109,
     "metadata": {},
     "output_type": "execute_result"
    },
    {
     "data": {
      "image/png": "[encoded data removed]",
      "text/plain": [
       "<Figure size 640x480 with 1 Axes>"
      ]
     },
     "metadata": {},
     "output_type": "display_data"
    }
   ],
   "source": [
    "plt.plot(trained_set_scaled)"
   ]
  },
  {
   "cell_type": "code",
   "execution_count": 111,
   "id": "b5327175-60ba-4fb6-8bd4-be4156421da4",
   "metadata": {},
   "outputs": [],
   "source": [
    "training_set = dataset_train[ ['Open'] ]"
   ]
  },
  {
   "cell_type": "code",
   "execution_count": 113,
   "id": "f29f73af-6e27-4563-bddc-4e818cf15a7c",
   "metadata": {},
   "outputs": [
    {
     "data": {
      "text/plain": [
       "pandas.core.frame.DataFrame"
      ]
     },
     "execution_count": 113,
     "metadata": {},
     "output_type": "execute_result"
    }
   ],
   "source": [
    "type(training_set)"
   ]
  },
  {
   "cell_type": "code",
   "execution_count": 115,
   "id": "4eb735bb-05bf-4d18-b6a1-3f872d0f561a",
   "metadata": {},
   "outputs": [
    {
     "data": {
      "text/plain": [
       "<Axes: xlabel='Date'>"
      ]
     },
     "execution_count": 115,
     "metadata": {},
     "output_type": "execute_result"
    },
    {
     "data": {
      "image/png": "[encoded data removed]",
      "text/plain": [
       "<Figure size 640x480 with 1 Axes>"
      ]
     },
     "metadata": {},
     "output_type": "display_data"
    }
   ],
   "source": [
    "training_set.plot()"
   ]
  },
  {
   "cell_type": "code",
   "execution_count": 117,
   "id": "e4f0b00b-ea42-4992-b6a0-098c58934e5f",
   "metadata": {},
   "outputs": [],
   "source": [
    "real_stock_price = data_test[ ['Open'] ]"
   ]
  },
  {
   "cell_type": "code",
   "execution_count": 119,
   "id": "101ec4c9-c3e2-45e8-b377-5b28e3e12b81",
   "metadata": {},
   "outputs": [
    {
     "data": {
      "text/plain": [
       "<Axes: xlabel='Date'>"
      ]
     },
     "execution_count": 119,
     "metadata": {},
     "output_type": "execute_result"
    },
    {
     "data": {
      "image/png": "[encoded data removed]",
      "text/plain": [
       "<Figure size 640x480 with 1 Axes>"
      ]
     },
     "metadata": {},
     "output_type": "display_data"
    }
   ],
   "source": [
    "real_stock_price.plot()"
   ]
  },
  {
   "cell_type": "code",
   "execution_count": 121,
   "id": "ca1a9fda-0501-4cae-ad56-88c2adef4233",
   "metadata": {},
   "outputs": [
    {
     "data": {
      "text/plain": [
       "pandas.core.frame.DataFrame"
      ]
     },
     "execution_count": 121,
     "metadata": {},
     "output_type": "execute_result"
    }
   ],
   "source": [
    "type(training_set)"
   ]
  },
  {
   "cell_type": "code",
   "execution_count": 123,
   "id": "d382f18a-d5d4-4e79-a461-dbedd897c0f6",
   "metadata": {},
   "outputs": [
    {
     "data": {
      "text/plain": [
       "(1258, 1)"
      ]
     },
     "execution_count": 123,
     "metadata": {},
     "output_type": "execute_result"
    }
   ],
   "source": [
    "training_set.shape"
   ]
  },
  {
   "cell_type": "code",
   "execution_count": 125,
   "id": "b26f470b-64fb-4c11-9db0-0be639309fe0",
   "metadata": {},
   "outputs": [
    {
     "data": {
      "text/plain": [
       "1258"
      ]
     },
     "execution_count": 125,
     "metadata": {},
     "output_type": "execute_result"
    }
   ],
   "source": [
    "len(training_set)"
   ]
  },
  {
   "cell_type": "code",
   "execution_count": 127,
   "id": "61d610f3-82ea-4acc-9e71-22ffbad4371c",
   "metadata": {},
   "outputs": [],
   "source": [
    "from sklearn.preprocessing import MinMaxScaler"
   ]
  },
  {
   "cell_type": "code",
   "execution_count": 129,
   "id": "7dee66d5-2b32-490b-a361-9be140d54c27",
   "metadata": {},
   "outputs": [],
   "source": [
    "sc = MinMaxScaler(feature_range=(0,1))"
   ]
  },
  {
   "cell_type": "code",
   "execution_count": 131,
   "id": "a0c6fcce-5c73-49b4-b6a0-60fed606e5f2",
   "metadata": {},
   "outputs": [],
   "source": [
    "training_set_scaled = sc.fit_transform(training_set)"
   ]
  },
  {
   "cell_type": "code",
   "execution_count": 133,
   "id": "3b9ed61e-677b-4182-bd49-d9a96ecc7d6c",
   "metadata": {},
   "outputs": [
    {
     "data": {
      "text/plain": [
       "array([[0.08581368],\n",
       "       [0.09701243],\n",
       "       [0.09433366],\n",
       "       ...,\n",
       "       [0.95725128],\n",
       "       [0.93796041],\n",
       "       [0.93688146]])"
      ]
     },
     "execution_count": 133,
     "metadata": {},
     "output_type": "execute_result"
    }
   ],
   "source": [
    "training_set_scaled"
   ]
  },
  {
   "cell_type": "code",
   "execution_count": 135,
   "id": "efa4cc28-89b8-482c-86d7-67d035a9e418",
   "metadata": {},
   "outputs": [
    {
     "data": {
      "text/plain": [
       "1258"
      ]
     },
     "execution_count": 135,
     "metadata": {},
     "output_type": "execute_result"
    }
   ],
   "source": [
    "len(training_set_scaled)"
   ]
  },
  {
   "cell_type": "code",
   "execution_count": 137,
   "id": "46e130f6-b9e4-48ca-97ad-4067ddd7412f",
   "metadata": {},
   "outputs": [
    {
     "data": {
      "text/plain": [
       "array([0.08581368, 0.09701243, 0.09433366, 0.09156187, 0.07984225,\n",
       "       0.0643277 , 0.0585423 , 0.06568569, 0.06109085, 0.06639259,\n",
       "       0.0614257 , 0.07474514, 0.02797827, 0.02379269, 0.02409033,\n",
       "       0.0159238 , 0.01078949, 0.00967334, 0.01642607, 0.02100231,\n",
       "       0.02280676, 0.02273235, 0.02810849, 0.03212665, 0.0433812 ,\n",
       "       0.04475779, 0.04790163, 0.0440695 , 0.04648783, 0.04745517,\n",
       "       0.04873875, 0.03936305, 0.04137213, 0.04034898, 0.04784582,\n",
       "       0.04325099, 0.04356723, 0.04286033, 0.04602277, 0.05398467,\n",
       "       0.05738894, 0.05714711, 0.05569611, 0.04421832, 0.04514845,\n",
       "       0.04605997, 0.04412531, 0.03675869, 0.04486941, 0.05065481,\n",
       "       0.05214302, 0.05612397, 0.05818885, 0.06540665, 0.06882953,\n",
       "       0.07243843, 0.07993526, 0.07846566, 0.08034452, 0.08497656])"
      ]
     },
     "execution_count": 137,
     "metadata": {},
     "output_type": "execute_result"
    }
   ],
   "source": [
    "training_set_scaled[0:60,0]"
   ]
  },
  {
   "cell_type": "code",
   "execution_count": 139,
   "id": "279e5cbe-5d15-459e-9a92-84cac8495caf",
   "metadata": {},
   "outputs": [
    {
     "data": {
      "text/plain": [
       "0.08627874097775134"
      ]
     },
     "execution_count": 139,
     "metadata": {},
     "output_type": "execute_result"
    }
   ],
   "source": [
    "training_set_scaled[60,0]"
   ]
  },
  {
   "cell_type": "code",
   "execution_count": 141,
   "id": "a27545b2-57ef-4663-9f44-0b3243a86b33",
   "metadata": {},
   "outputs": [],
   "source": [
    "y_train = training_set_scaled[0,0]"
   ]
  },
  {
   "cell_type": "code",
   "execution_count": 143,
   "id": "f2051c79-3bc0-43e3-be44-e398ea2d09da",
   "metadata": {},
   "outputs": [],
   "source": [
    "x_train = []"
   ]
  },
  {
   "cell_type": "code",
   "execution_count": 145,
   "id": "f4962a60-11fc-4706-971e-75f79c16d696",
   "metadata": {},
   "outputs": [],
   "source": [
    "y_train = []"
   ]
  },
  {
   "cell_type": "code",
   "execution_count": 147,
   "id": "83484145-ad6d-4e55-bac7-543be4b6ec3b",
   "metadata": {},
   "outputs": [],
   "source": [
    "for i in range( 60,1258 ):\n",
    "    x_train.append(training_set_scaled[i-60:i,0])\n",
    "    y_train.append(training_set_scaled[i,0])"
   ]
  },
  {
   "cell_type": "code",
   "execution_count": 149,
   "id": "5d6ef790-bd28-4e9c-b345-f46cb07f7704",
   "metadata": {},
   "outputs": [
    {
     "data": {
      "text/plain": [
       "list"
      ]
     },
     "execution_count": 149,
     "metadata": {},
     "output_type": "execute_result"
    }
   ],
   "source": [
    "type(y_train)"
   ]
  },
  {
   "cell_type": "code",
   "execution_count": 151,
   "id": "160ae8e3-3499-4350-9663-c99c285af75d",
   "metadata": {},
   "outputs": [],
   "source": [
    "import numpy as np"
   ]
  },
  {
   "cell_type": "code",
   "execution_count": 153,
   "id": "267e7b7c-2224-438e-81f7-1aa6660a2059",
   "metadata": {},
   "outputs": [],
   "source": [
    "x_train = np.array(x_train)"
   ]
  },
  {
   "cell_type": "code",
   "execution_count": 155,
   "id": "fb822d1d-48f3-48ff-9d89-59017264e759",
   "metadata": {},
   "outputs": [],
   "source": [
    "y_train = np.array(y_train)"
   ]
  },
  {
   "cell_type": "code",
   "execution_count": 157,
   "id": "96e8e163-8126-4ffe-9630-42dbb17d0949",
   "metadata": {},
   "outputs": [
    {
     "data": {
      "text/plain": [
       "(1198, 60)"
      ]
     },
     "execution_count": 157,
     "metadata": {},
     "output_type": "execute_result"
    }
   ],
   "source": [
    "x_train.shape"
   ]
  },
  {
   "cell_type": "code",
   "execution_count": 167,
   "id": "f8155214-b37c-408c-aa14-cdff7d237e72",
   "metadata": {},
   "outputs": [],
   "source": [
    "x_train = np.reshape(x_train, (x_train.shape[0], x_train.shape[1], 1))"
   ]
  },
  {
   "cell_type": "code",
   "execution_count": 169,
   "id": "fd14d93b-5551-4d87-b068-a36248c1cba0",
   "metadata": {},
   "outputs": [
    {
     "data": {
      "text/plain": [
       "(1198,)"
      ]
     },
     "execution_count": 169,
     "metadata": {},
     "output_type": "execute_result"
    }
   ],
   "source": [
    "y_train.shape"
   ]
  },
  {
   "cell_type": "code",
   "execution_count": 173,
   "id": "5bdbb55f-1fe7-41e4-a449-ecffe4013810",
   "metadata": {},
   "outputs": [],
   "source": [
    "from keras.models import Sequential"
   ]
  },
  {
   "cell_type": "code",
   "execution_count": 177,
   "id": "a5bc0f60-3b56-49b5-9ec6-6e2867ec0332",
   "metadata": {},
   "outputs": [],
   "source": [
    "from keras.layers import Dense"
   ]
  },
  {
   "cell_type": "code",
   "execution_count": 179,
   "id": "42bc7bf6-8662-4744-a7dc-4b7efc5d1b73",
   "metadata": {},
   "outputs": [],
   "source": [
    "from keras.layers import LSTM"
   ]
  },
  {
   "cell_type": "code",
   "execution_count": 181,
   "id": "48c8eadf-ad4a-4476-a167-087d2a07309a",
   "metadata": {},
   "outputs": [],
   "source": [
    "model = Sequential()"
   ]
  },
  {
   "cell_type": "code",
   "execution_count": 187,
   "id": "5939fa97-6016-4c47-8262-fe7ba9d72be6",
   "metadata": {},
   "outputs": [
    {
     "name": "stderr",
     "output_type": "stream",
     "text": [
      "C:\\Users\\vaibh\\anaconda3\\Lib\\site-packages\\keras\\src\\layers\\rnn\\rnn.py:200: UserWarning: Do not pass an `input_shape`/`input_dim` argument to a layer. When using Sequential models, prefer using an `Input(shape)` object as the first layer in the model instead.\n",
      "  super().__init__(**kwargs)\n"
     ]
    }
   ],
   "source": [
    "model.add(LSTM(units=60, return_sequences=True ,\n",
    "               input_shape = ( x_train.shape[1], 1)))"
   ]
  },
  {
   "cell_type": "code",
   "execution_count": 191,
   "id": "4fee7bd7-60ba-4a2b-8323-371079ba4578",
   "metadata": {},
   "outputs": [
    {
     "data": {
      "text/plain": [
       "[<LSTM name=lstm, built=True>]"
      ]
     },
     "execution_count": 191,
     "metadata": {},
     "output_type": "execute_result"
    }
   ],
   "source": [
    "model.layers"
   ]
  },
  {
   "cell_type": "code",
   "execution_count": 193,
   "id": "3ddc3c84-0d66-418c-ab01-789043de086e",
   "metadata": {},
   "outputs": [],
   "source": [
    "model.add(LSTM(units=60, return_sequences=True))"
   ]
  },
  {
   "cell_type": "code",
   "execution_count": 195,
   "id": "be6cd6a3-da51-41f2-83fa-8245fdb7240a",
   "metadata": {},
   "outputs": [
    {
     "data": {
      "text/plain": [
       "[<LSTM name=lstm, built=True>, <LSTM name=lstm_1, built=True>]"
      ]
     },
     "execution_count": 195,
     "metadata": {},
     "output_type": "execute_result"
    }
   ],
   "source": [
    "model.layers"
   ]
  },
  {
   "cell_type": "code",
   "execution_count": 197,
   "id": "a20937ab-cccd-46b7-8f45-9b2d9f58461f",
   "metadata": {},
   "outputs": [
    {
     "data": {
      "text/html": [
       "<pre style=\"white-space:pre;overflow-x:auto;line-height:normal;font-family:Menlo,'DejaVu Sans Mono',consolas,'Courier New',monospace\"><span style=\"font-weight: bold\">Model: \"sequential\"</span>\n",
       "</pre>\n"
      ],
      "text/plain": [
       "\u001b[1mModel: \"sequential\"\u001b[0m\n"
      ]
     },
     "metadata": {},
     "output_type": "display_data"
    },
    {
     "data": {
      "text/html": [
       "<pre style=\"white-space:pre;overflow-x:auto;line-height:normal;font-family:Menlo,'DejaVu Sans Mono',consolas,'Courier New',monospace\">┏━━━━━━━━━━━━━━━━━━━━━━━━━━━━━━━━━━━━━━┳━━━━━━━━━━━━━━━━━━━━━━━━━━━━━┳━━━━━━━━━━━━━━━━━┓\n",
       "┃<span style=\"font-weight: bold\"> Layer (type)                         </span>┃<span style=\"font-weight: bold\"> Output Shape                </span>┃<span style=\"font-weight: bold\">         Param # </span>┃\n",
       "┡━━━━━━━━━━━━━━━━━━━━━━━━━━━━━━━━━━━━━━╇━━━━━━━━━━━━━━━━━━━━━━━━━━━━━╇━━━━━━━━━━━━━━━━━┩\n",
       "│ lstm (<span style=\"color: #0087ff; text-decoration-color: #0087ff\">LSTM</span>)                          │ (<span style=\"color: #00d7ff; text-decoration-color: #00d7ff\">None</span>, <span style=\"color: #00af00; text-decoration-color: #00af00\">60</span>, <span style=\"color: #00af00; text-decoration-color: #00af00\">60</span>)              │          <span style=\"color: #00af00; text-decoration-color: #00af00\">14,880</span> │\n",
       "├──────────────────────────────────────┼─────────────────────────────┼─────────────────┤\n",
       "│ lstm_1 (<span style=\"color: #0087ff; text-decoration-color: #0087ff\">LSTM</span>)                        │ (<span style=\"color: #00d7ff; text-decoration-color: #00d7ff\">None</span>, <span style=\"color: #00af00; text-decoration-color: #00af00\">60</span>, <span style=\"color: #00af00; text-decoration-color: #00af00\">60</span>)              │          <span style=\"color: #00af00; text-decoration-color: #00af00\">29,040</span> │\n",
       "└──────────────────────────────────────┴─────────────────────────────┴─────────────────┘\n",
       "</pre>\n"
      ],
      "text/plain": [
       "┏━━━━━━━━━━━━━━━━━━━━━━━━━━━━━━━━━━━━━━┳━━━━━━━━━━━━━━━━━━━━━━━━━━━━━┳━━━━━━━━━━━━━━━━━┓\n",
       "┃\u001b[1m \u001b[0m\u001b[1mLayer (type)                        \u001b[0m\u001b[1m \u001b[0m┃\u001b[1m \u001b[0m\u001b[1mOutput Shape               \u001b[0m\u001b[1m \u001b[0m┃\u001b[1m \u001b[0m\u001b[1m        Param #\u001b[0m\u001b[1m \u001b[0m┃\n",
       "┡━━━━━━━━━━━━━━━━━━━━━━━━━━━━━━━━━━━━━━╇━━━━━━━━━━━━━━━━━━━━━━━━━━━━━╇━━━━━━━━━━━━━━━━━┩\n",
       "│ lstm (\u001b[38;5;33mLSTM\u001b[0m)                          │ (\u001b[38;5;45mNone\u001b[0m, \u001b[38;5;34m60\u001b[0m, \u001b[38;5;34m60\u001b[0m)              │          \u001b[38;5;34m14,880\u001b[0m │\n",
       "├──────────────────────────────────────┼─────────────────────────────┼─────────────────┤\n",
       "│ lstm_1 (\u001b[38;5;33mLSTM\u001b[0m)                        │ (\u001b[38;5;45mNone\u001b[0m, \u001b[38;5;34m60\u001b[0m, \u001b[38;5;34m60\u001b[0m)              │          \u001b[38;5;34m29,040\u001b[0m │\n",
       "└──────────────────────────────────────┴─────────────────────────────┴─────────────────┘\n"
      ]
     },
     "metadata": {},
     "output_type": "display_data"
    },
    {
     "data": {
      "text/html": [
       "<pre style=\"white-space:pre;overflow-x:auto;line-height:normal;font-family:Menlo,'DejaVu Sans Mono',consolas,'Courier New',monospace\"><span style=\"font-weight: bold\"> Total params: </span><span style=\"color: #00af00; text-decoration-color: #00af00\">43,920</span> (171.56 KB)\n",
       "</pre>\n"
      ],
      "text/plain": [
       "\u001b[1m Total params: \u001b[0m\u001b[38;5;34m43,920\u001b[0m (171.56 KB)\n"
      ]
     },
     "metadata": {},
     "output_type": "display_data"
    },
    {
     "data": {
      "text/html": [
       "<pre style=\"white-space:pre;overflow-x:auto;line-height:normal;font-family:Menlo,'DejaVu Sans Mono',consolas,'Courier New',monospace\"><span style=\"font-weight: bold\"> Trainable params: </span><span style=\"color: #00af00; text-decoration-color: #00af00\">43,920</span> (171.56 KB)\n",
       "</pre>\n"
      ],
      "text/plain": [
       "\u001b[1m Trainable params: \u001b[0m\u001b[38;5;34m43,920\u001b[0m (171.56 KB)\n"
      ]
     },
     "metadata": {},
     "output_type": "display_data"
    },
    {
     "data": {
      "text/html": [
       "<pre style=\"white-space:pre;overflow-x:auto;line-height:normal;font-family:Menlo,'DejaVu Sans Mono',consolas,'Courier New',monospace\"><span style=\"font-weight: bold\"> Non-trainable params: </span><span style=\"color: #00af00; text-decoration-color: #00af00\">0</span> (0.00 B)\n",
       "</pre>\n"
      ],
      "text/plain": [
       "\u001b[1m Non-trainable params: \u001b[0m\u001b[38;5;34m0\u001b[0m (0.00 B)\n"
      ]
     },
     "metadata": {},
     "output_type": "display_data"
    }
   ],
   "source": [
    "model.summary()"
   ]
  },
  {
   "cell_type": "code",
   "execution_count": 199,
   "id": "408da409-a404-4589-afc3-50c539a15def",
   "metadata": {},
   "outputs": [],
   "source": [
    "model.add(LSTM(units=60))"
   ]
  },
  {
   "cell_type": "code",
   "execution_count": 210,
   "id": "c43658b0-a384-4204-8d24-b84a74eed9fb",
   "metadata": {},
   "outputs": [],
   "source": [
    "model.add(Dense(units=1))    # by default the activation is linear"
   ]
  },
  {
   "cell_type": "code",
   "execution_count": 205,
   "id": "398ee564-d672-482b-b2b4-c516e0a731db",
   "metadata": {},
   "outputs": [
    {
     "data": {
      "text/html": [
       "<pre style=\"white-space:pre;overflow-x:auto;line-height:normal;font-family:Menlo,'DejaVu Sans Mono',consolas,'Courier New',monospace\"><span style=\"font-weight: bold\">Model: \"sequential\"</span>\n",
       "</pre>\n"
      ],
      "text/plain": [
       "\u001b[1mModel: \"sequential\"\u001b[0m\n"
      ]
     },
     "metadata": {},
     "output_type": "display_data"
    },
    {
     "data": {
      "text/html": [
       "<pre style=\"white-space:pre;overflow-x:auto;line-height:normal;font-family:Menlo,'DejaVu Sans Mono',consolas,'Courier New',monospace\">┏━━━━━━━━━━━━━━━━━━━━━━━━━━━━━━━━━━━━━━┳━━━━━━━━━━━━━━━━━━━━━━━━━━━━━┳━━━━━━━━━━━━━━━━━┓\n",
       "┃<span style=\"font-weight: bold\"> Layer (type)                         </span>┃<span style=\"font-weight: bold\"> Output Shape                </span>┃<span style=\"font-weight: bold\">         Param # </span>┃\n",
       "┡━━━━━━━━━━━━━━━━━━━━━━━━━━━━━━━━━━━━━━╇━━━━━━━━━━━━━━━━━━━━━━━━━━━━━╇━━━━━━━━━━━━━━━━━┩\n",
       "│ lstm (<span style=\"color: #0087ff; text-decoration-color: #0087ff\">LSTM</span>)                          │ (<span style=\"color: #00d7ff; text-decoration-color: #00d7ff\">None</span>, <span style=\"color: #00af00; text-decoration-color: #00af00\">60</span>, <span style=\"color: #00af00; text-decoration-color: #00af00\">60</span>)              │          <span style=\"color: #00af00; text-decoration-color: #00af00\">14,880</span> │\n",
       "├──────────────────────────────────────┼─────────────────────────────┼─────────────────┤\n",
       "│ lstm_1 (<span style=\"color: #0087ff; text-decoration-color: #0087ff\">LSTM</span>)                        │ (<span style=\"color: #00d7ff; text-decoration-color: #00d7ff\">None</span>, <span style=\"color: #00af00; text-decoration-color: #00af00\">60</span>, <span style=\"color: #00af00; text-decoration-color: #00af00\">60</span>)              │          <span style=\"color: #00af00; text-decoration-color: #00af00\">29,040</span> │\n",
       "├──────────────────────────────────────┼─────────────────────────────┼─────────────────┤\n",
       "│ lstm_2 (<span style=\"color: #0087ff; text-decoration-color: #0087ff\">LSTM</span>)                        │ (<span style=\"color: #00d7ff; text-decoration-color: #00d7ff\">None</span>, <span style=\"color: #00af00; text-decoration-color: #00af00\">60</span>)                  │          <span style=\"color: #00af00; text-decoration-color: #00af00\">29,040</span> │\n",
       "├──────────────────────────────────────┼─────────────────────────────┼─────────────────┤\n",
       "│ dense (<span style=\"color: #0087ff; text-decoration-color: #0087ff\">Dense</span>)                        │ (<span style=\"color: #00d7ff; text-decoration-color: #00d7ff\">None</span>, <span style=\"color: #00af00; text-decoration-color: #00af00\">1</span>)                   │              <span style=\"color: #00af00; text-decoration-color: #00af00\">61</span> │\n",
       "└──────────────────────────────────────┴─────────────────────────────┴─────────────────┘\n",
       "</pre>\n"
      ],
      "text/plain": [
       "┏━━━━━━━━━━━━━━━━━━━━━━━━━━━━━━━━━━━━━━┳━━━━━━━━━━━━━━━━━━━━━━━━━━━━━┳━━━━━━━━━━━━━━━━━┓\n",
       "┃\u001b[1m \u001b[0m\u001b[1mLayer (type)                        \u001b[0m\u001b[1m \u001b[0m┃\u001b[1m \u001b[0m\u001b[1mOutput Shape               \u001b[0m\u001b[1m \u001b[0m┃\u001b[1m \u001b[0m\u001b[1m        Param #\u001b[0m\u001b[1m \u001b[0m┃\n",
       "┡━━━━━━━━━━━━━━━━━━━━━━━━━━━━━━━━━━━━━━╇━━━━━━━━━━━━━━━━━━━━━━━━━━━━━╇━━━━━━━━━━━━━━━━━┩\n",
       "│ lstm (\u001b[38;5;33mLSTM\u001b[0m)                          │ (\u001b[38;5;45mNone\u001b[0m, \u001b[38;5;34m60\u001b[0m, \u001b[38;5;34m60\u001b[0m)              │          \u001b[38;5;34m14,880\u001b[0m │\n",
       "├──────────────────────────────────────┼─────────────────────────────┼─────────────────┤\n",
       "│ lstm_1 (\u001b[38;5;33mLSTM\u001b[0m)                        │ (\u001b[38;5;45mNone\u001b[0m, \u001b[38;5;34m60\u001b[0m, \u001b[38;5;34m60\u001b[0m)              │          \u001b[38;5;34m29,040\u001b[0m │\n",
       "├──────────────────────────────────────┼─────────────────────────────┼─────────────────┤\n",
       "│ lstm_2 (\u001b[38;5;33mLSTM\u001b[0m)                        │ (\u001b[38;5;45mNone\u001b[0m, \u001b[38;5;34m60\u001b[0m)                  │          \u001b[38;5;34m29,040\u001b[0m │\n",
       "├──────────────────────────────────────┼─────────────────────────────┼─────────────────┤\n",
       "│ dense (\u001b[38;5;33mDense\u001b[0m)                        │ (\u001b[38;5;45mNone\u001b[0m, \u001b[38;5;34m1\u001b[0m)                   │              \u001b[38;5;34m61\u001b[0m │\n",
       "└──────────────────────────────────────┴─────────────────────────────┴─────────────────┘\n"
      ]
     },
     "metadata": {},
     "output_type": "display_data"
    },
    {
     "data": {
      "text/html": [
       "<pre style=\"white-space:pre;overflow-x:auto;line-height:normal;font-family:Menlo,'DejaVu Sans Mono',consolas,'Courier New',monospace\"><span style=\"font-weight: bold\"> Total params: </span><span style=\"color: #00af00; text-decoration-color: #00af00\">73,021</span> (285.24 KB)\n",
       "</pre>\n"
      ],
      "text/plain": [
       "\u001b[1m Total params: \u001b[0m\u001b[38;5;34m73,021\u001b[0m (285.24 KB)\n"
      ]
     },
     "metadata": {},
     "output_type": "display_data"
    },
    {
     "data": {
      "text/html": [
       "<pre style=\"white-space:pre;overflow-x:auto;line-height:normal;font-family:Menlo,'DejaVu Sans Mono',consolas,'Courier New',monospace\"><span style=\"font-weight: bold\"> Trainable params: </span><span style=\"color: #00af00; text-decoration-color: #00af00\">73,021</span> (285.24 KB)\n",
       "</pre>\n"
      ],
      "text/plain": [
       "\u001b[1m Trainable params: \u001b[0m\u001b[38;5;34m73,021\u001b[0m (285.24 KB)\n"
      ]
     },
     "metadata": {},
     "output_type": "display_data"
    },
    {
     "data": {
      "text/html": [
       "<pre style=\"white-space:pre;overflow-x:auto;line-height:normal;font-family:Menlo,'DejaVu Sans Mono',consolas,'Courier New',monospace\"><span style=\"font-weight: bold\"> Non-trainable params: </span><span style=\"color: #00af00; text-decoration-color: #00af00\">0</span> (0.00 B)\n",
       "</pre>\n"
      ],
      "text/plain": [
       "\u001b[1m Non-trainable params: \u001b[0m\u001b[38;5;34m0\u001b[0m (0.00 B)\n"
      ]
     },
     "metadata": {},
     "output_type": "display_data"
    }
   ],
   "source": [
    "model.summary()"
   ]
  },
  {
   "cell_type": "code",
   "execution_count": 207,
   "id": "20522bfb-ce57-42ac-a4af-fcda4a9e3b4d",
   "metadata": {},
   "outputs": [],
   "source": [
    "model.compile(optimizer = 'adam', loss= 'mean_squared_error')"
   ]
  },
  {
   "cell_type": "code",
   "execution_count": 209,
   "id": "54ab1c4a-68c1-4e31-ab30-f4ad0d949cea",
   "metadata": {},
   "outputs": [
    {
     "name": "stdout",
     "output_type": "stream",
     "text": [
      "Epoch 1/100\n",
      "\u001b[1m38/38\u001b[0m \u001b[32m━━━━━━━━━━━━━━━━━━━━\u001b[0m\u001b[37m\u001b[0m \u001b[1m16s\u001b[0m 141ms/step - loss: 0.0768\n",
      "Epoch 2/100\n",
      "\u001b[1m38/38\u001b[0m \u001b[32m━━━━━━━━━━━━━━━━━━━━\u001b[0m\u001b[37m\u001b[0m \u001b[1m6s\u001b[0m 144ms/step - loss: 0.0024\n",
      "Epoch 3/100\n",
      "\u001b[1m38/38\u001b[0m \u001b[32m━━━━━━━━━━━━━━━━━━━━\u001b[0m\u001b[37m\u001b[0m \u001b[1m5s\u001b[0m 139ms/step - loss: 0.0017\n",
      "Epoch 4/100\n",
      "\u001b[1m38/38\u001b[0m \u001b[32m━━━━━━━━━━━━━━━━━━━━\u001b[0m\u001b[37m\u001b[0m \u001b[1m5s\u001b[0m 134ms/step - loss: 0.0016\n",
      "Epoch 5/100\n",
      "\u001b[1m38/38\u001b[0m \u001b[32m━━━━━━━━━━━━━━━━━━━━\u001b[0m\u001b[37m\u001b[0m \u001b[1m5s\u001b[0m 135ms/step - loss: 0.0016\n",
      "Epoch 6/100\n",
      "\u001b[1m38/38\u001b[0m \u001b[32m━━━━━━━━━━━━━━━━━━━━\u001b[0m\u001b[37m\u001b[0m \u001b[1m7s\u001b[0m 173ms/step - loss: 0.0016\n",
      "Epoch 7/100\n",
      "\u001b[1m38/38\u001b[0m \u001b[32m━━━━━━━━━━━━━━━━━━━━\u001b[0m\u001b[37m\u001b[0m \u001b[1m6s\u001b[0m 148ms/step - loss: 0.0014\n",
      "Epoch 8/100\n",
      "\u001b[1m38/38\u001b[0m \u001b[32m━━━━━━━━━━━━━━━━━━━━\u001b[0m\u001b[37m\u001b[0m \u001b[1m6s\u001b[0m 147ms/step - loss: 0.0015\n",
      "Epoch 9/100\n",
      "\u001b[1m38/38\u001b[0m \u001b[32m━━━━━━━━━━━━━━━━━━━━\u001b[0m\u001b[37m\u001b[0m \u001b[1m10s\u001b[0m 147ms/step - loss: 0.0013\n",
      "Epoch 10/100\n",
      "\u001b[1m38/38\u001b[0m \u001b[32m━━━━━━━━━━━━━━━━━━━━\u001b[0m\u001b[37m\u001b[0m \u001b[1m5s\u001b[0m 134ms/step - loss: 0.0013\n",
      "Epoch 11/100\n",
      "\u001b[1m38/38\u001b[0m \u001b[32m━━━━━━━━━━━━━━━━━━━━\u001b[0m\u001b[37m\u001b[0m \u001b[1m6s\u001b[0m 148ms/step - loss: 0.0013\n",
      "Epoch 12/100\n",
      "\u001b[1m38/38\u001b[0m \u001b[32m━━━━━━━━━━━━━━━━━━━━\u001b[0m\u001b[37m\u001b[0m \u001b[1m5s\u001b[0m 138ms/step - loss: 0.0012\n",
      "Epoch 13/100\n",
      "\u001b[1m38/38\u001b[0m \u001b[32m━━━━━━━━━━━━━━━━━━━━\u001b[0m\u001b[37m\u001b[0m \u001b[1m6s\u001b[0m 150ms/step - loss: 0.0015\n",
      "Epoch 14/100\n",
      "\u001b[1m38/38\u001b[0m \u001b[32m━━━━━━━━━━━━━━━━━━━━\u001b[0m\u001b[37m\u001b[0m \u001b[1m10s\u001b[0m 138ms/step - loss: 0.0014\n",
      "Epoch 15/100\n",
      "\u001b[1m38/38\u001b[0m \u001b[32m━━━━━━━━━━━━━━━━━━━━\u001b[0m\u001b[37m\u001b[0m \u001b[1m5s\u001b[0m 136ms/step - loss: 0.0014\n",
      "Epoch 16/100\n",
      "\u001b[1m38/38\u001b[0m \u001b[32m━━━━━━━━━━━━━━━━━━━━\u001b[0m\u001b[37m\u001b[0m \u001b[1m12s\u001b[0m 191ms/step - loss: 0.0011\n",
      "Epoch 17/100\n",
      "\u001b[1m38/38\u001b[0m \u001b[32m━━━━━━━━━━━━━━━━━━━━\u001b[0m\u001b[37m\u001b[0m \u001b[1m6s\u001b[0m 167ms/step - loss: 0.0011\n",
      "Epoch 18/100\n",
      "\u001b[1m38/38\u001b[0m \u001b[32m━━━━━━━━━━━━━━━━━━━━\u001b[0m\u001b[37m\u001b[0m \u001b[1m5s\u001b[0m 136ms/step - loss: 0.0013\n",
      "Epoch 19/100\n",
      "\u001b[1m38/38\u001b[0m \u001b[32m━━━━━━━━━━━━━━━━━━━━\u001b[0m\u001b[37m\u001b[0m \u001b[1m10s\u001b[0m 135ms/step - loss: 0.0011\n",
      "Epoch 20/100\n",
      "\u001b[1m38/38\u001b[0m \u001b[32m━━━━━━━━━━━━━━━━━━━━\u001b[0m\u001b[37m\u001b[0m \u001b[1m5s\u001b[0m 140ms/step - loss: 0.0012\n",
      "Epoch 21/100\n",
      "\u001b[1m38/38\u001b[0m \u001b[32m━━━━━━━━━━━━━━━━━━━━\u001b[0m\u001b[37m\u001b[0m \u001b[1m5s\u001b[0m 136ms/step - loss: 0.0010\n",
      "Epoch 22/100\n",
      "\u001b[1m38/38\u001b[0m \u001b[32m━━━━━━━━━━━━━━━━━━━━\u001b[0m\u001b[37m\u001b[0m \u001b[1m5s\u001b[0m 136ms/step - loss: 0.0013\n",
      "Epoch 23/100\n",
      "\u001b[1m38/38\u001b[0m \u001b[32m━━━━━━━━━━━━━━━━━━━━\u001b[0m\u001b[37m\u001b[0m \u001b[1m6s\u001b[0m 152ms/step - loss: 9.5749e-04\n",
      "Epoch 24/100\n",
      "\u001b[1m38/38\u001b[0m \u001b[32m━━━━━━━━━━━━━━━━━━━━\u001b[0m\u001b[37m\u001b[0m \u001b[1m5s\u001b[0m 142ms/step - loss: 9.3077e-04\n",
      "Epoch 25/100\n",
      "\u001b[1m38/38\u001b[0m \u001b[32m━━━━━━━━━━━━━━━━━━━━\u001b[0m\u001b[37m\u001b[0m \u001b[1m6s\u001b[0m 153ms/step - loss: 8.8116e-04\n",
      "Epoch 26/100\n",
      "\u001b[1m38/38\u001b[0m \u001b[32m━━━━━━━━━━━━━━━━━━━━\u001b[0m\u001b[37m\u001b[0m \u001b[1m7s\u001b[0m 183ms/step - loss: 9.5551e-04\n",
      "Epoch 27/100\n",
      "\u001b[1m38/38\u001b[0m \u001b[32m━━━━━━━━━━━━━━━━━━━━\u001b[0m\u001b[37m\u001b[0m \u001b[1m6s\u001b[0m 161ms/step - loss: 9.3582e-04\n",
      "Epoch 28/100\n",
      "\u001b[1m38/38\u001b[0m \u001b[32m━━━━━━━━━━━━━━━━━━━━\u001b[0m\u001b[37m\u001b[0m \u001b[1m8s\u001b[0m 204ms/step - loss: 9.4454e-04\n",
      "Epoch 29/100\n",
      "\u001b[1m38/38\u001b[0m \u001b[32m━━━━━━━━━━━━━━━━━━━━\u001b[0m\u001b[37m\u001b[0m \u001b[1m7s\u001b[0m 171ms/step - loss: 8.1952e-04\n",
      "Epoch 30/100\n",
      "\u001b[1m38/38\u001b[0m \u001b[32m━━━━━━━━━━━━━━━━━━━━\u001b[0m\u001b[37m\u001b[0m \u001b[1m8s\u001b[0m 217ms/step - loss: 9.4980e-04\n",
      "Epoch 31/100\n",
      "\u001b[1m38/38\u001b[0m \u001b[32m━━━━━━━━━━━━━━━━━━━━\u001b[0m\u001b[37m\u001b[0m \u001b[1m8s\u001b[0m 149ms/step - loss: 0.0012\n",
      "Epoch 32/100\n",
      "\u001b[1m38/38\u001b[0m \u001b[32m━━━━━━━━━━━━━━━━━━━━\u001b[0m\u001b[37m\u001b[0m \u001b[1m6s\u001b[0m 150ms/step - loss: 9.2262e-04\n",
      "Epoch 33/100\n",
      "\u001b[1m38/38\u001b[0m \u001b[32m━━━━━━━━━━━━━━━━━━━━\u001b[0m\u001b[37m\u001b[0m \u001b[1m11s\u001b[0m 161ms/step - loss: 8.6556e-04\n",
      "Epoch 34/100\n",
      "\u001b[1m38/38\u001b[0m \u001b[32m━━━━━━━━━━━━━━━━━━━━\u001b[0m\u001b[37m\u001b[0m \u001b[1m7s\u001b[0m 170ms/step - loss: 8.0375e-04\n",
      "Epoch 35/100\n",
      "\u001b[1m38/38\u001b[0m \u001b[32m━━━━━━━━━━━━━━━━━━━━\u001b[0m\u001b[37m\u001b[0m \u001b[1m6s\u001b[0m 158ms/step - loss: 7.3085e-04\n",
      "Epoch 36/100\n",
      "\u001b[1m38/38\u001b[0m \u001b[32m━━━━━━━━━━━━━━━━━━━━\u001b[0m\u001b[37m\u001b[0m \u001b[1m7s\u001b[0m 179ms/step - loss: 8.4729e-04\n",
      "Epoch 37/100\n",
      "\u001b[1m38/38\u001b[0m \u001b[32m━━━━━━━━━━━━━━━━━━━━\u001b[0m\u001b[37m\u001b[0m \u001b[1m6s\u001b[0m 146ms/step - loss: 8.1629e-04\n",
      "Epoch 38/100\n",
      "\u001b[1m38/38\u001b[0m \u001b[32m━━━━━━━━━━━━━━━━━━━━\u001b[0m\u001b[37m\u001b[0m \u001b[1m6s\u001b[0m 145ms/step - loss: 6.6664e-04\n",
      "Epoch 39/100\n",
      "\u001b[1m38/38\u001b[0m \u001b[32m━━━━━━━━━━━━━━━━━━━━\u001b[0m\u001b[37m\u001b[0m \u001b[1m6s\u001b[0m 148ms/step - loss: 8.9857e-04\n",
      "Epoch 40/100\n",
      "\u001b[1m38/38\u001b[0m \u001b[32m━━━━━━━━━━━━━━━━━━━━\u001b[0m\u001b[37m\u001b[0m \u001b[1m5s\u001b[0m 141ms/step - loss: 7.6137e-04\n",
      "Epoch 41/100\n",
      "\u001b[1m38/38\u001b[0m \u001b[32m━━━━━━━━━━━━━━━━━━━━\u001b[0m\u001b[37m\u001b[0m \u001b[1m7s\u001b[0m 174ms/step - loss: 6.5456e-04\n",
      "Epoch 42/100\n",
      "\u001b[1m38/38\u001b[0m \u001b[32m━━━━━━━━━━━━━━━━━━━━\u001b[0m\u001b[37m\u001b[0m \u001b[1m9s\u001b[0m 151ms/step - loss: 7.2015e-04\n",
      "Epoch 43/100\n",
      "\u001b[1m38/38\u001b[0m \u001b[32m━━━━━━━━━━━━━━━━━━━━\u001b[0m\u001b[37m\u001b[0m \u001b[1m6s\u001b[0m 164ms/step - loss: 7.1548e-04\n",
      "Epoch 44/100\n",
      "\u001b[1m38/38\u001b[0m \u001b[32m━━━━━━━━━━━━━━━━━━━━\u001b[0m\u001b[37m\u001b[0m \u001b[1m5s\u001b[0m 142ms/step - loss: 5.8708e-04\n",
      "Epoch 45/100\n",
      "\u001b[1m38/38\u001b[0m \u001b[32m━━━━━━━━━━━━━━━━━━━━\u001b[0m\u001b[37m\u001b[0m \u001b[1m6s\u001b[0m 148ms/step - loss: 6.0550e-04\n",
      "Epoch 46/100\n",
      "\u001b[1m38/38\u001b[0m \u001b[32m━━━━━━━━━━━━━━━━━━━━\u001b[0m\u001b[37m\u001b[0m \u001b[1m5s\u001b[0m 137ms/step - loss: 6.7480e-04\n",
      "Epoch 47/100\n",
      "\u001b[1m38/38\u001b[0m \u001b[32m━━━━━━━━━━━━━━━━━━━━\u001b[0m\u001b[37m\u001b[0m \u001b[1m6s\u001b[0m 165ms/step - loss: 7.9134e-04\n",
      "Epoch 48/100\n",
      "\u001b[1m38/38\u001b[0m \u001b[32m━━━━━━━━━━━━━━━━━━━━\u001b[0m\u001b[37m\u001b[0m \u001b[1m8s\u001b[0m 211ms/step - loss: 5.4470e-04\n",
      "Epoch 49/100\n",
      "\u001b[1m38/38\u001b[0m \u001b[32m━━━━━━━━━━━━━━━━━━━━\u001b[0m\u001b[37m\u001b[0m \u001b[1m7s\u001b[0m 167ms/step - loss: 5.5044e-04\n",
      "Epoch 50/100\n",
      "\u001b[1m38/38\u001b[0m \u001b[32m━━━━━━━━━━━━━━━━━━━━\u001b[0m\u001b[37m\u001b[0m \u001b[1m8s\u001b[0m 199ms/step - loss: 5.2328e-04\n",
      "Epoch 51/100\n",
      "\u001b[1m38/38\u001b[0m \u001b[32m━━━━━━━━━━━━━━━━━━━━\u001b[0m\u001b[37m\u001b[0m \u001b[1m5s\u001b[0m 134ms/step - loss: 6.3622e-04\n",
      "Epoch 52/100\n",
      "\u001b[1m38/38\u001b[0m \u001b[32m━━━━━━━━━━━━━━━━━━━━\u001b[0m\u001b[37m\u001b[0m \u001b[1m5s\u001b[0m 139ms/step - loss: 6.3248e-04\n",
      "Epoch 53/100\n",
      "\u001b[1m38/38\u001b[0m \u001b[32m━━━━━━━━━━━━━━━━━━━━\u001b[0m\u001b[37m\u001b[0m \u001b[1m5s\u001b[0m 140ms/step - loss: 6.4885e-04\n",
      "Epoch 54/100\n",
      "\u001b[1m38/38\u001b[0m \u001b[32m━━━━━━━━━━━━━━━━━━━━\u001b[0m\u001b[37m\u001b[0m \u001b[1m5s\u001b[0m 136ms/step - loss: 5.0626e-04\n",
      "Epoch 55/100\n",
      "\u001b[1m38/38\u001b[0m \u001b[32m━━━━━━━━━━━━━━━━━━━━\u001b[0m\u001b[37m\u001b[0m \u001b[1m6s\u001b[0m 164ms/step - loss: 4.6417e-04\n",
      "Epoch 56/100\n",
      "\u001b[1m38/38\u001b[0m \u001b[32m━━━━━━━━━━━━━━━━━━━━\u001b[0m\u001b[37m\u001b[0m \u001b[1m6s\u001b[0m 147ms/step - loss: 5.0029e-04\n",
      "Epoch 57/100\n",
      "\u001b[1m38/38\u001b[0m \u001b[32m━━━━━━━━━━━━━━━━━━━━\u001b[0m\u001b[37m\u001b[0m \u001b[1m5s\u001b[0m 133ms/step - loss: 6.9283e-04\n",
      "Epoch 58/100\n",
      "\u001b[1m38/38\u001b[0m \u001b[32m━━━━━━━━━━━━━━━━━━━━\u001b[0m\u001b[37m\u001b[0m \u001b[1m5s\u001b[0m 124ms/step - loss: 9.2649e-04\n",
      "Epoch 59/100\n",
      "\u001b[1m38/38\u001b[0m \u001b[32m━━━━━━━━━━━━━━━━━━━━\u001b[0m\u001b[37m\u001b[0m \u001b[1m5s\u001b[0m 127ms/step - loss: 5.6172e-04\n",
      "Epoch 60/100\n",
      "\u001b[1m38/38\u001b[0m \u001b[32m━━━━━━━━━━━━━━━━━━━━\u001b[0m\u001b[37m\u001b[0m \u001b[1m4s\u001b[0m 106ms/step - loss: 5.1247e-04\n",
      "Epoch 61/100\n",
      "\u001b[1m38/38\u001b[0m \u001b[32m━━━━━━━━━━━━━━━━━━━━\u001b[0m\u001b[37m\u001b[0m \u001b[1m4s\u001b[0m 104ms/step - loss: 4.3634e-04\n",
      "Epoch 62/100\n",
      "\u001b[1m38/38\u001b[0m \u001b[32m━━━━━━━━━━━━━━━━━━━━\u001b[0m\u001b[37m\u001b[0m \u001b[1m5s\u001b[0m 131ms/step - loss: 3.9178e-04\n",
      "Epoch 63/100\n",
      "\u001b[1m38/38\u001b[0m \u001b[32m━━━━━━━━━━━━━━━━━━━━\u001b[0m\u001b[37m\u001b[0m \u001b[1m5s\u001b[0m 129ms/step - loss: 3.4505e-04\n",
      "Epoch 64/100\n",
      "\u001b[1m38/38\u001b[0m \u001b[32m━━━━━━━━━━━━━━━━━━━━\u001b[0m\u001b[37m\u001b[0m \u001b[1m5s\u001b[0m 120ms/step - loss: 3.7723e-04\n",
      "Epoch 65/100\n",
      "\u001b[1m38/38\u001b[0m \u001b[32m━━━━━━━━━━━━━━━━━━━━\u001b[0m\u001b[37m\u001b[0m \u001b[1m6s\u001b[0m 145ms/step - loss: 3.7486e-04\n",
      "Epoch 66/100\n",
      "\u001b[1m38/38\u001b[0m \u001b[32m━━━━━━━━━━━━━━━━━━━━\u001b[0m\u001b[37m\u001b[0m \u001b[1m9s\u001b[0m 109ms/step - loss: 3.3298e-04\n",
      "Epoch 67/100\n",
      "\u001b[1m38/38\u001b[0m \u001b[32m━━━━━━━━━━━━━━━━━━━━\u001b[0m\u001b[37m\u001b[0m \u001b[1m5s\u001b[0m 126ms/step - loss: 6.6170e-04\n",
      "Epoch 68/100\n",
      "\u001b[1m38/38\u001b[0m \u001b[32m━━━━━━━━━━━━━━━━━━━━\u001b[0m\u001b[37m\u001b[0m \u001b[1m4s\u001b[0m 115ms/step - loss: 4.3318e-04\n",
      "Epoch 69/100\n",
      "\u001b[1m38/38\u001b[0m \u001b[32m━━━━━━━━━━━━━━━━━━━━\u001b[0m\u001b[37m\u001b[0m \u001b[1m4s\u001b[0m 111ms/step - loss: 3.0213e-04\n",
      "Epoch 70/100\n",
      "\u001b[1m38/38\u001b[0m \u001b[32m━━━━━━━━━━━━━━━━━━━━\u001b[0m\u001b[37m\u001b[0m \u001b[1m4s\u001b[0m 110ms/step - loss: 4.2770e-04\n",
      "Epoch 71/100\n",
      "\u001b[1m38/38\u001b[0m \u001b[32m━━━━━━━━━━━━━━━━━━━━\u001b[0m\u001b[37m\u001b[0m \u001b[1m4s\u001b[0m 107ms/step - loss: 3.6097e-04\n",
      "Epoch 72/100\n",
      "\u001b[1m38/38\u001b[0m \u001b[32m━━━━━━━━━━━━━━━━━━━━\u001b[0m\u001b[37m\u001b[0m \u001b[1m4s\u001b[0m 110ms/step - loss: 3.3641e-04\n",
      "Epoch 73/100\n",
      "\u001b[1m38/38\u001b[0m \u001b[32m━━━━━━━━━━━━━━━━━━━━\u001b[0m\u001b[37m\u001b[0m \u001b[1m4s\u001b[0m 101ms/step - loss: 3.8780e-04\n",
      "Epoch 74/100\n",
      "\u001b[1m38/38\u001b[0m \u001b[32m━━━━━━━━━━━━━━━━━━━━\u001b[0m\u001b[37m\u001b[0m \u001b[1m4s\u001b[0m 111ms/step - loss: 3.1296e-04\n",
      "Epoch 75/100\n",
      "\u001b[1m38/38\u001b[0m \u001b[32m━━━━━━━━━━━━━━━━━━━━\u001b[0m\u001b[37m\u001b[0m \u001b[1m5s\u001b[0m 103ms/step - loss: 3.3902e-04\n",
      "Epoch 76/100\n",
      "\u001b[1m38/38\u001b[0m \u001b[32m━━━━━━━━━━━━━━━━━━━━\u001b[0m\u001b[37m\u001b[0m \u001b[1m4s\u001b[0m 104ms/step - loss: 3.5334e-04\n",
      "Epoch 77/100\n",
      "\u001b[1m38/38\u001b[0m \u001b[32m━━━━━━━━━━━━━━━━━━━━\u001b[0m\u001b[37m\u001b[0m \u001b[1m4s\u001b[0m 105ms/step - loss: 4.3855e-04\n",
      "Epoch 78/100\n",
      "\u001b[1m38/38\u001b[0m \u001b[32m━━━━━━━━━━━━━━━━━━━━\u001b[0m\u001b[37m\u001b[0m \u001b[1m4s\u001b[0m 101ms/step - loss: 3.9863e-04\n",
      "Epoch 79/100\n",
      "\u001b[1m38/38\u001b[0m \u001b[32m━━━━━━━━━━━━━━━━━━━━\u001b[0m\u001b[37m\u001b[0m \u001b[1m4s\u001b[0m 110ms/step - loss: 3.7917e-04\n",
      "Epoch 80/100\n",
      "\u001b[1m38/38\u001b[0m \u001b[32m━━━━━━━━━━━━━━━━━━━━\u001b[0m\u001b[37m\u001b[0m \u001b[1m4s\u001b[0m 111ms/step - loss: 3.6582e-04\n",
      "Epoch 81/100\n",
      "\u001b[1m38/38\u001b[0m \u001b[32m━━━━━━━━━━━━━━━━━━━━\u001b[0m\u001b[37m\u001b[0m \u001b[1m4s\u001b[0m 104ms/step - loss: 3.1572e-04\n",
      "Epoch 82/100\n",
      "\u001b[1m38/38\u001b[0m \u001b[32m━━━━━━━━━━━━━━━━━━━━\u001b[0m\u001b[37m\u001b[0m \u001b[1m4s\u001b[0m 106ms/step - loss: 3.0920e-04\n",
      "Epoch 83/100\n",
      "\u001b[1m38/38\u001b[0m \u001b[32m━━━━━━━━━━━━━━━━━━━━\u001b[0m\u001b[37m\u001b[0m \u001b[1m4s\u001b[0m 112ms/step - loss: 3.6815e-04\n",
      "Epoch 84/100\n",
      "\u001b[1m38/38\u001b[0m \u001b[32m━━━━━━━━━━━━━━━━━━━━\u001b[0m\u001b[37m\u001b[0m \u001b[1m5s\u001b[0m 121ms/step - loss: 3.3701e-04\n",
      "Epoch 85/100\n",
      "\u001b[1m38/38\u001b[0m \u001b[32m━━━━━━━━━━━━━━━━━━━━\u001b[0m\u001b[37m\u001b[0m \u001b[1m5s\u001b[0m 125ms/step - loss: 3.9545e-04\n",
      "Epoch 86/100\n",
      "\u001b[1m38/38\u001b[0m \u001b[32m━━━━━━━━━━━━━━━━━━━━\u001b[0m\u001b[37m\u001b[0m \u001b[1m4s\u001b[0m 107ms/step - loss: 3.4105e-04\n",
      "Epoch 87/100\n",
      "\u001b[1m38/38\u001b[0m \u001b[32m━━━━━━━━━━━━━━━━━━━━\u001b[0m\u001b[37m\u001b[0m \u001b[1m4s\u001b[0m 101ms/step - loss: 3.3860e-04\n",
      "Epoch 88/100\n",
      "\u001b[1m38/38\u001b[0m \u001b[32m━━━━━━━━━━━━━━━━━━━━\u001b[0m\u001b[37m\u001b[0m \u001b[1m4s\u001b[0m 106ms/step - loss: 3.0790e-04\n",
      "Epoch 89/100\n",
      "\u001b[1m38/38\u001b[0m \u001b[32m━━━━━━━━━━━━━━━━━━━━\u001b[0m\u001b[37m\u001b[0m \u001b[1m4s\u001b[0m 107ms/step - loss: 2.9888e-04\n",
      "Epoch 90/100\n",
      "\u001b[1m38/38\u001b[0m \u001b[32m━━━━━━━━━━━━━━━━━━━━\u001b[0m\u001b[37m\u001b[0m \u001b[1m4s\u001b[0m 108ms/step - loss: 3.3567e-04\n",
      "Epoch 91/100\n",
      "\u001b[1m38/38\u001b[0m \u001b[32m━━━━━━━━━━━━━━━━━━━━\u001b[0m\u001b[37m\u001b[0m \u001b[1m4s\u001b[0m 107ms/step - loss: 3.3815e-04\n",
      "Epoch 92/100\n",
      "\u001b[1m38/38\u001b[0m \u001b[32m━━━━━━━━━━━━━━━━━━━━\u001b[0m\u001b[37m\u001b[0m \u001b[1m4s\u001b[0m 105ms/step - loss: 2.8977e-04\n",
      "Epoch 93/100\n",
      "\u001b[1m38/38\u001b[0m \u001b[32m━━━━━━━━━━━━━━━━━━━━\u001b[0m\u001b[37m\u001b[0m \u001b[1m4s\u001b[0m 106ms/step - loss: 3.5445e-04\n",
      "Epoch 94/100\n",
      "\u001b[1m38/38\u001b[0m \u001b[32m━━━━━━━━━━━━━━━━━━━━\u001b[0m\u001b[37m\u001b[0m \u001b[1m4s\u001b[0m 116ms/step - loss: 2.9017e-04\n",
      "Epoch 95/100\n",
      "\u001b[1m38/38\u001b[0m \u001b[32m━━━━━━━━━━━━━━━━━━━━\u001b[0m\u001b[37m\u001b[0m \u001b[1m4s\u001b[0m 107ms/step - loss: 3.2842e-04\n",
      "Epoch 96/100\n",
      "\u001b[1m38/38\u001b[0m \u001b[32m━━━━━━━━━━━━━━━━━━━━\u001b[0m\u001b[37m\u001b[0m \u001b[1m4s\u001b[0m 106ms/step - loss: 2.6011e-04\n",
      "Epoch 97/100\n",
      "\u001b[1m38/38\u001b[0m \u001b[32m━━━━━━━━━━━━━━━━━━━━\u001b[0m\u001b[37m\u001b[0m \u001b[1m4s\u001b[0m 106ms/step - loss: 3.1644e-04\n",
      "Epoch 98/100\n",
      "\u001b[1m38/38\u001b[0m \u001b[32m━━━━━━━━━━━━━━━━━━━━\u001b[0m\u001b[37m\u001b[0m \u001b[1m4s\u001b[0m 106ms/step - loss: 3.2650e-04\n",
      "Epoch 99/100\n",
      "\u001b[1m38/38\u001b[0m \u001b[32m━━━━━━━━━━━━━━━━━━━━\u001b[0m\u001b[37m\u001b[0m \u001b[1m4s\u001b[0m 109ms/step - loss: 4.0005e-04\n",
      "Epoch 100/100\n",
      "\u001b[1m38/38\u001b[0m \u001b[32m━━━━━━━━━━━━━━━━━━━━\u001b[0m\u001b[37m\u001b[0m \u001b[1m4s\u001b[0m 107ms/step - loss: 3.3721e-04\n"
     ]
    },
    {
     "data": {
      "text/plain": [
       "<keras.src.callbacks.history.History at 0x1940427a360>"
      ]
     },
     "execution_count": 209,
     "metadata": {},
     "output_type": "execute_result"
    }
   ],
   "source": [
    "model.fit(x_train,y_train,epochs=100)"
   ]
  },
  {
   "cell_type": "code",
   "execution_count": 211,
   "id": "1e6e35c2-3dd9-4f32-979e-77b0dca25d51",
   "metadata": {},
   "outputs": [
    {
     "data": {
      "text/plain": [
       "[array([[-0.04303635, -0.06298569, -0.05831544, -0.08543368,  0.1621263 ,\n",
       "          0.01685205, -0.05633045, -0.01123207,  0.01921023,  0.09106602,\n",
       "          0.01695395,  0.2273715 ,  0.13159351,  0.06554238,  0.09686508,\n",
       "         -0.13630424,  0.10338168,  0.17041947,  0.02981882, -0.10625739,\n",
       "          0.12072203,  0.00100686, -0.01446671,  0.19277188, -0.07078809,\n",
       "         -0.01751702, -0.03082953, -0.03390406,  0.15055163, -0.06866264,\n",
       "          0.19947585,  0.17770025, -0.12042052,  0.00257189,  0.13571526,\n",
       "          0.05470462, -0.02141651,  0.11015345,  0.05031848, -0.13909954,\n",
       "         -0.03835486,  0.08844124, -0.12960368, -0.09212021,  0.14560023,\n",
       "          0.10031878, -0.08002605,  0.07919405,  0.07019472,  0.18698783,\n",
       "         -0.09843341,  0.09853899,  0.21187168,  0.34344414,  0.05033141,\n",
       "          0.08338476,  0.12344272,  0.13438852,  0.15500179,  0.09793486,\n",
       "         -0.14910927,  0.13525803, -0.08442549, -0.160702  ,  0.05569832,\n",
       "         -0.05944258,  0.01888933, -0.08192977,  0.11461629, -0.13392948,\n",
       "         -0.13171087,  0.1810602 , -0.05492358, -0.01821801,  0.03548542,\n",
       "          0.00905726,  0.05265971,  0.14893624, -0.08985626,  0.1551538 ,\n",
       "          0.13606945,  0.1197596 , -0.0488908 , -0.0711107 ,  0.16778861,\n",
       "         -0.05953757,  0.13013604, -0.01012474, -0.09490884, -0.13854262,\n",
       "         -0.05377426,  0.02288371, -0.10813798, -0.10353308, -0.13246451,\n",
       "          0.0204255 ,  0.10750032, -0.18673132, -0.16476446,  0.02606062,\n",
       "         -0.19449759, -0.11556394, -0.00437811, -0.09082201, -0.08163597,\n",
       "         -0.07232369,  0.11450526, -0.01782053, -0.14228752, -0.06665074,\n",
       "         -0.14721836, -0.06981064,  0.05091071, -0.0315343 ,  0.05952858,\n",
       "          0.0832212 ,  0.03561258,  0.07371579,  0.04382256, -0.02302259,\n",
       "          0.06598632, -0.0786654 ,  0.04510457,  0.16468991,  0.09853326,\n",
       "         -0.13431886, -0.11401895,  0.16291563,  0.16089863, -0.18122295,\n",
       "          0.08921328, -0.14288504,  0.17319772,  0.08044657, -0.0042284 ,\n",
       "         -0.06787216, -0.08888651,  0.1384481 , -0.12181683, -0.16771428,\n",
       "          0.11829143, -0.0918535 ,  0.13068281, -0.17169088, -0.16835146,\n",
       "         -0.12350571,  0.0887734 ,  0.13546802, -0.1702314 ,  0.02107588,\n",
       "         -0.18220782,  0.1814735 ,  0.167308  ,  0.10541232,  0.14029346,\n",
       "          0.00411357,  0.20762148,  0.14740284,  0.05650073,  0.00503468,\n",
       "         -0.07960925, -0.17013308, -0.0578721 , -0.1626699 ,  0.10273111,\n",
       "         -0.12432364,  0.03045867, -0.15180737, -0.06326245, -0.12941574,\n",
       "          0.11088797, -0.10549408, -0.14561562,  0.16214298, -0.1273547 ,\n",
       "          0.04996535,  0.16826865,  0.12545648,  0.11937159,  0.06318722,\n",
       "          0.06688965,  0.01323261,  0.07192624, -0.09642363,  0.35850295,\n",
       "          0.20333645, -0.03180247, -0.0836715 , -0.01396471,  0.21793893,\n",
       "          0.15890422,  0.11296394,  0.13463195, -0.07247928, -0.03661752,\n",
       "         -0.07625001, -0.04496803,  0.16810045, -0.08975207, -0.07278056,\n",
       "          0.20662592, -0.06980922, -0.04920792,  0.01673942, -0.09201755,\n",
       "         -0.09201096,  0.06978863,  0.181419  ,  0.18217185,  0.07551643,\n",
       "          0.13242015,  0.18362352,  0.01183933,  0.26708013,  0.03393765,\n",
       "         -0.04703569,  0.01728038,  0.09626366,  0.11698277, -0.11612692,\n",
       "          0.01722491, -0.00693473,  0.03140119, -0.0081015 , -0.10427415,\n",
       "         -0.01340937, -0.0851974 , -0.03237827,  0.04948936,  0.47119638,\n",
       "         -0.04944922,  0.29417357, -0.0273219 ,  0.47901192,  0.19511217,\n",
       "          0.19052806,  0.03495141,  0.04713256, -0.10554255, -0.10817562]],\n",
       "       dtype=float32),\n",
       " array([[-0.04060819,  0.02612766,  0.05963935, ...,  0.16000736,\n",
       "         -0.02470864, -0.00772091],\n",
       "        [-0.01890527, -0.10859094,  0.02620835, ...,  0.04981183,\n",
       "          0.07830779,  0.05744574],\n",
       "        [ 0.06298985, -0.04720003, -0.07285402, ...,  0.09788222,\n",
       "         -0.04285818, -0.06830227],\n",
       "        ...,\n",
       "        [ 0.02116509,  0.10779456, -0.01704119, ..., -0.01078338,\n",
       "         -0.08335944, -0.01907241],\n",
       "        [-0.10521218, -0.1051199 , -0.00126182, ...,  0.04438595,\n",
       "         -0.02757865, -0.11932566],\n",
       "        [-0.1231137 ,  0.08186741, -0.01236772, ..., -0.07234557,\n",
       "          0.06708893, -0.06657099]], dtype=float32),\n",
       " array([ 4.67335582e-02,  5.51860966e-02,  1.99891850e-02,  3.90717089e-02,\n",
       "         2.05395490e-01,  2.74707712e-02,  9.77239572e-04,  1.92355905e-02,\n",
       "         5.40979356e-02,  9.88832116e-02,  6.67464808e-02,  6.66918233e-02,\n",
       "         6.95301667e-02,  4.50861687e-03, -6.57296460e-03,  9.42764338e-03,\n",
       "         2.23754700e-02,  1.33545389e-02,  2.54541226e-02,  6.12792373e-03,\n",
       "         1.20088318e-02,  9.19358432e-03,  5.77765107e-02,  7.39258751e-02,\n",
       "         1.23663144e-02,  1.90467312e-04,  8.70355498e-03,  6.03048876e-02,\n",
       "         3.78381312e-02, -2.50942283e-03,  7.06774071e-02,  4.19061817e-02,\n",
       "         1.81613844e-02,  1.36060581e-01,  2.57648658e-02, -1.73568111e-02,\n",
       "         5.24927415e-02,  9.83564556e-02,  1.83137972e-02, -1.85266696e-02,\n",
       "         1.08338252e-01,  9.56093073e-02,  3.61297131e-02,  1.63873304e-02,\n",
       "        -3.20691406e-03,  6.67640045e-02,  5.51651185e-03,  7.11166114e-02,\n",
       "         5.23596304e-04,  1.99930474e-01,  4.15828712e-02,  9.81186256e-02,\n",
       "         1.06872775e-01,  3.81497204e-01,  1.76218431e-02,  2.29357127e-02,\n",
       "         2.05022916e-02,  1.37462420e-02,  2.39259820e-03,  1.44582726e-02,\n",
       "         9.76393223e-01,  9.87053514e-01,  9.99959648e-01,  9.71909165e-01,\n",
       "         9.36742902e-01,  9.96382356e-01,  9.92047906e-01,  9.92845953e-01,\n",
       "         9.93349075e-01,  9.84857559e-01,  9.74533916e-01,  1.00170064e+00,\n",
       "         9.96914089e-01,  9.82326984e-01,  9.87920403e-01,  9.95032370e-01,\n",
       "         9.89268184e-01,  9.91916001e-01,  9.67685044e-01,  9.89450932e-01,\n",
       "         9.97635424e-01,  9.88195777e-01,  9.87442076e-01,  9.83247817e-01,\n",
       "         9.98364747e-01,  9.86794412e-01,  9.94248271e-01,  9.83473599e-01,\n",
       "         1.00193143e+00,  9.95511353e-01,  9.79023457e-01,  9.88662004e-01,\n",
       "         9.99700427e-01,  9.63876426e-01,  9.99861896e-01,  9.86639380e-01,\n",
       "         9.84490037e-01,  9.80477273e-01,  9.84463751e-01,  9.81910467e-01,\n",
       "         9.68315721e-01,  9.93747532e-01,  9.87698257e-01,  9.95200694e-01,\n",
       "         9.91771638e-01,  9.95407164e-01,  9.82498705e-01,  9.87285614e-01,\n",
       "         9.97465670e-01,  9.72201228e-01,  9.83782828e-01,  9.80223656e-01,\n",
       "         9.73492324e-01,  9.40227509e-01,  1.00292003e+00,  9.86250579e-01,\n",
       "         9.97813344e-01,  9.92949903e-01,  9.79166448e-01,  9.82982278e-01,\n",
       "        -1.43123828e-02,  2.19432972e-02, -3.62560945e-03, -1.95834674e-02,\n",
       "        -3.03872046e-03,  1.47333574e-02,  1.61620360e-02, -1.17444545e-02,\n",
       "        -1.54431770e-02,  1.41450856e-02,  4.45222715e-03, -8.04840866e-03,\n",
       "        -1.06226988e-02, -4.25188453e-04,  3.56863718e-03,  4.01576841e-03,\n",
       "         1.07105309e-02, -1.03838947e-02,  1.76968891e-02,  1.71702113e-02,\n",
       "        -8.15267907e-04,  1.00723421e-02, -1.24916574e-02,  2.66575124e-02,\n",
       "         7.22508086e-03,  4.38561849e-03,  9.67692584e-04, -7.23431585e-03,\n",
       "         6.50482299e-03,  7.33383186e-03,  1.55659001e-02, -1.03714960e-02,\n",
       "        -6.42313063e-03,  1.52709670e-02, -7.00039603e-03, -1.20794922e-02,\n",
       "        -2.24406682e-02, -2.72904057e-02, -1.04790283e-02,  3.96364043e-03,\n",
       "         2.62412452e-03,  1.00655351e-02,  2.19642147e-02,  9.71115846e-03,\n",
       "        -2.14100182e-02,  7.10452860e-03, -2.07426748e-03,  1.88389956e-03,\n",
       "         7.90323690e-03, -5.53987315e-03, -1.74957756e-02,  1.59698762e-02,\n",
       "         5.38244797e-03, -4.92814602e-03,  1.07822951e-03, -1.95218809e-03,\n",
       "        -6.66619092e-03, -9.71633662e-03, -2.00935528e-02, -1.54245272e-02,\n",
       "         4.89666164e-02,  5.49718067e-02,  1.82466786e-02,  4.00329903e-02,\n",
       "         1.94709107e-01,  2.33120658e-02,  1.39050779e-03,  2.09749136e-02,\n",
       "         5.62763549e-02,  9.32240635e-02,  6.86040223e-02,  6.89588562e-02,\n",
       "         6.90860301e-02,  4.40279301e-03, -6.43148832e-03,  9.70606785e-03,\n",
       "         2.22393069e-02,  1.24752065e-02,  2.48892605e-02,  7.07729300e-03,\n",
       "         1.01876194e-02,  1.01796957e-02,  5.80584593e-02,  7.08146766e-02,\n",
       "         1.38712833e-02,  9.38564306e-04,  7.97104090e-03,  5.65965362e-02,\n",
       "         3.56344655e-02, -2.40245624e-03,  7.01742545e-02,  4.02119420e-02,\n",
       "         1.82540119e-02,  1.26220629e-01,  2.65467502e-02, -1.68505460e-02,\n",
       "         5.26393056e-02,  9.81266275e-02,  1.79763101e-02, -1.85228325e-02,\n",
       "         1.09454334e-01,  9.54400897e-02,  3.53661180e-02,  1.64660178e-02,\n",
       "        -2.40627071e-03,  6.74133003e-02,  6.59371307e-03,  7.33792335e-02,\n",
       "         6.19770668e-04,  1.78071454e-01,  4.17823382e-02,  8.40392485e-02,\n",
       "         1.03268817e-01,  3.62980396e-01,  1.57329775e-02,  1.68525353e-02,\n",
       "         2.17040554e-02,  1.50312157e-02,  3.00602498e-03,  1.19647579e-02],\n",
       "       dtype=float32),\n",
       " array([[-0.10907773,  0.09432618, -0.10894236, ...,  0.17112756,\n",
       "         -0.03011866, -0.11922911],\n",
       "        [-0.0122882 , -0.12165735, -0.06266069, ..., -0.15172699,\n",
       "          0.07832997,  0.09694465],\n",
       "        [ 0.02481335,  0.00855312, -0.05082555, ...,  0.02020611,\n",
       "          0.12251224, -0.10949375],\n",
       "        ...,\n",
       "        [ 0.1291971 , -0.09122516,  0.00673171, ...,  0.12347819,\n",
       "          0.12173047,  0.1449588 ],\n",
       "        [-0.00951906, -0.06771224,  0.05212585, ..., -0.0165723 ,\n",
       "          0.0910966 , -0.12827212],\n",
       "        [ 0.05624689, -0.10483959, -0.09661094, ...,  0.03471342,\n",
       "         -0.07457201,  0.05812009]], dtype=float32),\n",
       " array([[-0.03871933, -0.08719394,  0.10506795, ...,  0.00923055,\n",
       "          0.03345039, -0.07313272],\n",
       "        [-0.13714601, -0.0021077 ,  0.06834975, ...,  0.0608581 ,\n",
       "          0.06803882, -0.03284532],\n",
       "        [-0.04718883,  0.04400954,  0.01795525, ...,  0.01959076,\n",
       "          0.09952534, -0.03192436],\n",
       "        ...,\n",
       "        [ 0.03255505, -0.08857474, -0.0267155 , ..., -0.05359522,\n",
       "          0.05213531,  0.05268025],\n",
       "        [ 0.01446543, -0.13424236, -0.04017883, ..., -0.02959272,\n",
       "          0.00507071,  0.09460373],\n",
       "        [-0.07163427, -0.06479305,  0.03668327, ..., -0.10201174,\n",
       "          0.03711406,  0.03696627]], dtype=float32),\n",
       " array([-2.96592456e-03,  8.75056460e-02,  6.35826588e-02,  5.60352057e-02,\n",
       "        -7.99249019e-03, -9.92860831e-03,  1.19972425e-02, -1.32727092e-02,\n",
       "         7.37109082e-03, -7.82826357e-03,  1.77347139e-02,  4.14168602e-03,\n",
       "        -4.34970995e-03, -9.90725122e-03,  4.98539135e-02, -5.16345492e-03,\n",
       "         3.39311287e-02,  2.33028635e-01,  2.93178231e-01,  1.74610689e-02,\n",
       "         4.82899573e-04,  2.58678407e-03,  8.69361032e-03, -4.55280533e-03,\n",
       "         3.82307102e-03, -1.44336862e-03,  1.32851768e-02, -3.14409565e-03,\n",
       "         2.33617470e-01,  1.09605929e-02,  3.09957474e-01,  9.21912212e-03,\n",
       "        -1.58110226e-03,  2.18158169e-03,  4.35880832e-02,  1.76323652e-02,\n",
       "        -1.62046682e-02,  8.76181480e-03,  2.47383304e-02,  9.70673456e-04,\n",
       "         9.18697566e-02,  1.37941718e-01,  1.31513597e-02, -9.27479658e-03,\n",
       "         2.07061142e-01,  1.29473833e-02,  9.83961206e-03,  4.60666226e-04,\n",
       "        -4.88168513e-03,  1.89749431e-02,  5.52670565e-03,  2.34058499e-01,\n",
       "         1.87764674e-01,  3.59101184e-02,  3.50732990e-02, -1.33549189e-02,\n",
       "         1.04035530e-02,  4.86423969e-02,  3.27118114e-02,  3.42691084e-03,\n",
       "         9.90611136e-01,  9.77643192e-01,  9.94198799e-01,  9.90349233e-01,\n",
       "         9.87848818e-01,  9.80549455e-01,  9.99641657e-01,  9.82341290e-01,\n",
       "         9.94798720e-01,  9.87609088e-01,  1.00312567e+00,  9.95448768e-01,\n",
       "         9.94480669e-01,  9.90234435e-01,  9.88587201e-01,  9.80463386e-01,\n",
       "         9.89229739e-01,  9.59055424e-01,  9.26021695e-01,  9.91083682e-01,\n",
       "         9.89182472e-01,  9.98520851e-01,  9.81227458e-01,  9.92579043e-01,\n",
       "         9.98798549e-01,  9.74924684e-01,  9.91320670e-01,  9.88094389e-01,\n",
       "         9.44157362e-01,  9.94575083e-01,  9.41994071e-01,  9.97433007e-01,\n",
       "         9.87512589e-01,  9.92379427e-01,  9.94503319e-01,  9.91359055e-01,\n",
       "         9.83694017e-01,  9.96473193e-01,  9.98791993e-01,  9.96204913e-01,\n",
       "         9.98329699e-01,  9.76673067e-01,  9.96379972e-01,  9.88909483e-01,\n",
       "         9.66631174e-01,  9.97979164e-01,  9.95678902e-01,  9.96149600e-01,\n",
       "         9.81231213e-01,  1.00233507e+00,  9.87418592e-01,  9.66108799e-01,\n",
       "         9.74769473e-01,  9.92606103e-01,  9.93286073e-01,  9.84837711e-01,\n",
       "         9.95964468e-01,  1.00319695e+00,  9.93909657e-01,  9.94789064e-01,\n",
       "         9.84419044e-03,  9.48143937e-03,  9.35946591e-03, -9.51986702e-04,\n",
       "         9.09192394e-03,  2.04258552e-03,  4.44566645e-03,  1.31614599e-02,\n",
       "        -3.36472318e-03,  1.55014070e-02, -3.82110127e-03, -1.57163888e-02,\n",
       "        -1.22246584e-02, -1.33155901e-02, -4.54200339e-03, -5.55952312e-04,\n",
       "        -5.44444751e-03, -1.05737839e-02,  1.64748058e-02, -1.07262062e-03,\n",
       "         7.66926492e-03, -3.89546994e-03, -5.39528718e-03, -1.94714088e-02,\n",
       "         1.58804865e-03,  1.39395136e-03,  1.25824856e-02,  1.78525213e-03,\n",
       "        -1.93711240e-02, -5.86291123e-03, -1.46218902e-02,  1.86105201e-03,\n",
       "         1.18086636e-02, -1.11986129e-02,  1.38335244e-03,  1.89792749e-03,\n",
       "        -3.88286612e-03,  1.20543959e-02,  1.61612127e-03, -1.63650215e-02,\n",
       "        -7.74572417e-03, -5.72611997e-03,  2.46627186e-03, -6.82603350e-05,\n",
       "         2.61858059e-03,  3.49386712e-03,  7.70404283e-03, -1.93818973e-03,\n",
       "         2.18940899e-03,  8.95197131e-03, -1.55821322e-02, -2.85224542e-02,\n",
       "        -3.31949927e-02, -9.43922671e-04, -3.64509667e-03, -4.02583554e-03,\n",
       "         6.43288670e-03, -8.80974624e-03, -2.70322198e-03,  1.14683341e-03,\n",
       "        -3.04817315e-03,  8.52461904e-02,  5.96283153e-02,  5.49195111e-02,\n",
       "        -7.86408316e-03, -9.49114002e-03,  1.10605517e-02, -1.28920451e-02,\n",
       "         6.80294912e-03, -7.95727875e-03,  1.62684247e-02,  3.36693507e-03,\n",
       "        -4.29632608e-03, -9.89925396e-03,  4.77832034e-02, -5.63899148e-03,\n",
       "         3.02095059e-02,  2.40126178e-01,  2.75619656e-01,  1.54050542e-02,\n",
       "        -1.28514390e-03,  2.74261902e-03,  5.16228704e-03, -5.38729317e-03,\n",
       "         3.93221062e-03, -1.61151611e-03,  1.22403828e-02, -5.33141987e-03,\n",
       "         2.09488407e-01,  9.82381124e-03,  2.67085254e-01,  8.26386642e-03,\n",
       "        -2.18054163e-03,  1.49969733e-03,  3.86689566e-02,  1.50399469e-02,\n",
       "        -1.59575716e-02,  8.04399792e-03,  2.31041759e-02,  4.70361294e-04,\n",
       "         4.87536713e-02,  1.33033887e-01,  1.30691305e-02, -8.73000827e-03,\n",
       "         1.95521444e-01,  1.28472364e-02,  8.73792730e-03,  1.54552079e-04,\n",
       "        -4.83994232e-03,  1.94772668e-02,  5.03695104e-03,  2.13878497e-01,\n",
       "         7.03698844e-02,  3.33443470e-02,  3.06875240e-02, -1.35134840e-02,\n",
       "         8.48677661e-03,  4.63064611e-02,  3.02258879e-02,  2.84977397e-03],\n",
       "       dtype=float32),\n",
       " array([[ 0.07403636, -0.09910875,  0.05922474, ...,  0.13221611,\n",
       "          0.06940405,  0.0840509 ],\n",
       "        [-0.00182771,  0.05932987,  0.05709694, ..., -0.00932112,\n",
       "          0.02362412,  0.1136964 ],\n",
       "        [ 0.17237483, -0.03708346,  0.17320265, ...,  0.11656866,\n",
       "          0.5019013 ,  0.00918751],\n",
       "        ...,\n",
       "        [-0.10803102, -0.10158365, -0.38136604, ...,  0.10971745,\n",
       "         -0.511937  , -0.140242  ],\n",
       "        [ 0.00162178,  0.10093293, -0.16428149, ...,  0.01324624,\n",
       "         -0.43084717, -0.1370061 ],\n",
       "        [-0.00435826, -0.08981521,  0.08776663, ...,  0.0896979 ,\n",
       "         -0.05606822, -0.15364061]], dtype=float32),\n",
       " array([[ 2.40904372e-02,  9.57201421e-02,  7.32141584e-02, ...,\n",
       "          1.23719350e-01,  1.01877205e-01,  3.34835984e-03],\n",
       "        [-3.53188775e-02,  2.70059705e-03,  3.60924602e-02, ...,\n",
       "         -5.22347866e-04,  2.94357806e-01,  4.73744795e-03],\n",
       "        [ 6.69791251e-02,  1.21847659e-01,  3.53402436e-01, ...,\n",
       "          1.34190142e-01,  8.70933592e-01,  9.10019204e-02],\n",
       "        ...,\n",
       "        [ 2.39162426e-02, -2.72677522e-02, -2.63172895e-01, ...,\n",
       "         -1.18203953e-01, -6.07163787e-01,  4.68951315e-02],\n",
       "        [ 6.29319251e-02, -1.68568447e-01, -3.34996313e-01, ...,\n",
       "         -5.15336037e-01, -5.30680537e-01, -3.96370679e-01],\n",
       "        [-5.87262809e-02,  6.46402612e-02,  3.42504561e-01, ...,\n",
       "          1.84269175e-01,  7.23101854e-01,  6.53584078e-02]], dtype=float32),\n",
       " array([ 1.57566257e-02,  1.99394431e-02,  1.28606468e-01, -2.89160619e-03,\n",
       "        -3.74419009e-03,  9.72003024e-03,  1.02527477e-02, -8.62655113e-04,\n",
       "        -9.55384504e-03,  3.72352786e-02, -1.98788213e-04,  1.61477476e-01,\n",
       "         1.73118308e-01,  8.97577684e-03,  2.38277055e-02, -1.27764763e-02,\n",
       "        -4.39752452e-03,  9.83819552e-03,  1.59971967e-01,  8.37330613e-03,\n",
       "        -7.93920923e-03,  5.84865846e-02,  1.02558164e-02, -1.91294551e-02,\n",
       "         1.34139303e-02,  7.25443214e-02, -9.83227883e-03, -5.69883548e-03,\n",
       "        -8.91023956e-04,  1.02724712e-02,  1.04042836e-01,  9.56661534e-03,\n",
       "         3.47880460e-03,  5.24248183e-03,  5.30633004e-03,  2.70714145e-02,\n",
       "        -9.70912748e-04, -1.23134572e-02,  5.80267143e-03,  9.13153868e-03,\n",
       "         3.17754271e-03,  5.17129898e-02,  8.16740543e-02,  1.02936337e-03,\n",
       "         4.48171468e-03,  7.93140475e-03,  2.64515340e-01, -2.19126744e-03,\n",
       "         4.18181116e-05, -8.06359202e-03,  2.85284072e-02,  3.22025083e-03,\n",
       "         1.31827608e-01,  2.78296284e-02,  2.25328133e-02,  1.75087415e-02,\n",
       "         1.42797045e-02,  1.71511490e-02,  5.32838643e-01,  1.32410266e-02,\n",
       "         9.89738405e-01,  9.84843016e-01,  9.33067799e-01,  9.81652915e-01,\n",
       "         9.96630251e-01,  9.93952215e-01,  9.88820016e-01,  9.91560459e-01,\n",
       "         9.82792258e-01,  9.89413440e-01,  9.97194231e-01,  9.32576954e-01,\n",
       "         9.67395782e-01,  9.99443412e-01,  9.81475234e-01,  9.85430777e-01,\n",
       "         9.94370043e-01,  9.81623471e-01,  9.47920263e-01,  9.79812980e-01,\n",
       "         9.77821290e-01,  9.81151283e-01,  9.91910756e-01,  9.80991960e-01,\n",
       "         9.91495430e-01,  9.65921462e-01,  9.87611353e-01,  9.88451660e-01,\n",
       "         9.97084737e-01,  9.85790074e-01,  9.64960873e-01,  9.90728915e-01,\n",
       "         9.79010463e-01,  9.94955838e-01,  9.96489227e-01,  9.91842866e-01,\n",
       "         9.92532492e-01,  9.88281190e-01,  9.93893683e-01,  9.95639741e-01,\n",
       "         9.80544269e-01,  9.76414442e-01,  9.79670882e-01,  9.86599147e-01,\n",
       "         9.95571256e-01,  9.93286192e-01,  9.56536889e-01,  9.85839486e-01,\n",
       "         9.93904531e-01,  9.76874590e-01,  9.81014609e-01,  9.97518837e-01,\n",
       "         9.77585137e-01,  9.71371531e-01,  9.84494030e-01,  9.72315609e-01,\n",
       "         9.89143729e-01,  9.62880373e-01,  8.53142977e-01,  9.92794096e-01,\n",
       "         6.08755369e-03, -1.12340190e-02,  2.29898607e-03,  5.45269018e-03,\n",
       "        -8.40078015e-03, -8.98329820e-03,  1.38361240e-03, -7.85091426e-03,\n",
       "         7.79112848e-03, -8.65319185e-03, -1.10734683e-02, -6.39030337e-03,\n",
       "         1.57986023e-02, -7.67576508e-03, -5.29012689e-03,  5.21626882e-03,\n",
       "         9.36692487e-03,  1.62231410e-03, -7.23720575e-03, -4.70602978e-03,\n",
       "        -7.63817737e-03,  9.17084049e-03, -7.19290972e-03,  7.79140554e-03,\n",
       "        -2.30057049e-03,  7.15838652e-03, -1.87098160e-02,  7.92331062e-03,\n",
       "        -1.05477292e-02, -1.19640986e-02, -1.24705918e-02,  7.43238069e-03,\n",
       "        -8.78673326e-03, -7.50504388e-03, -5.33412490e-03,  1.03588626e-02,\n",
       "         1.00359609e-02,  1.03452494e-02,  8.67535267e-03, -9.62097570e-03,\n",
       "        -9.27511323e-03, -4.83443774e-03, -1.02370176e-02,  1.24099804e-02,\n",
       "        -9.99207981e-03,  7.56645110e-03,  1.17042977e-02,  9.19742789e-03,\n",
       "         8.53244273e-04,  9.92407463e-03, -8.87799263e-03, -4.95749386e-03,\n",
       "         1.05675831e-02, -7.25540146e-03,  1.37001872e-02, -3.47351516e-03,\n",
       "        -5.90148941e-03,  2.50113718e-02, -1.73981953e-02, -1.71179231e-02,\n",
       "         1.38298776e-02,  1.71809383e-02,  8.45248550e-02, -3.42554180e-03,\n",
       "        -3.86497937e-03,  6.80573005e-03,  8.77107959e-03, -3.82360129e-04,\n",
       "        -9.57357138e-03,  3.96408401e-02, -3.85016698e-04,  7.83564597e-02,\n",
       "         7.41638094e-02,  8.88135377e-03,  1.70023497e-02, -1.73948314e-02,\n",
       "        -4.32487018e-03, -3.69202974e-03,  1.46724060e-01,  5.64042572e-03,\n",
       "        -9.10261273e-03,  5.69512732e-02,  9.53396875e-03, -1.90853551e-02,\n",
       "         1.01608187e-02,  3.96825522e-02, -1.04506072e-02, -5.45741711e-03,\n",
       "        -1.29707903e-03,  1.04725771e-02,  1.00577503e-01,  9.19525605e-03,\n",
       "        -4.82205395e-03,  3.93804535e-03,  4.52705566e-03,  2.96458378e-02,\n",
       "        -1.34426565e-03, -1.21909110e-02,  5.62604936e-03,  9.15948488e-03,\n",
       "         3.03432113e-04,  4.13347967e-02,  7.75544867e-02,  9.74788214e-04,\n",
       "         3.31054558e-03,  6.77372841e-03,  2.52762139e-01, -3.75030655e-03,\n",
       "        -3.73704446e-04, -7.78034469e-03,  2.33733449e-02,  2.83598015e-03,\n",
       "         1.09343596e-01,  2.35128216e-02,  2.19591931e-02,  1.52502442e-02,\n",
       "         1.52950892e-02,  1.27407480e-02,  5.13783693e-01,  1.38512840e-02],\n",
       "       dtype=float32),\n",
       " array([[ 0.2820385 ],\n",
       "        [-0.22766331],\n",
       "        [ 0.21868354],\n",
       "        [ 0.15657766],\n",
       "        [ 0.04742471],\n",
       "        [-0.23322727],\n",
       "        [-0.16815484],\n",
       "        [-0.267342  ],\n",
       "        [ 0.23744404],\n",
       "        [-0.1948649 ],\n",
       "        [ 0.00672217],\n",
       "        [-0.24361669],\n",
       "        [ 0.31217515],\n",
       "        [-0.17341042],\n",
       "        [-0.2302963 ],\n",
       "        [ 0.11719701],\n",
       "        [ 0.02187855],\n",
       "        [ 0.08680152],\n",
       "        [-0.12574501],\n",
       "        [-0.2077183 ],\n",
       "        [-0.21761453],\n",
       "        [ 0.13679208],\n",
       "        [-0.17646259],\n",
       "        [-0.02542369],\n",
       "        [-0.1780991 ],\n",
       "        [ 0.13497047],\n",
       "        [ 0.03526163],\n",
       "        [ 0.08983324],\n",
       "        [-0.00389876],\n",
       "        [-0.24791162],\n",
       "        [-0.25220376],\n",
       "        [ 0.21357171],\n",
       "        [-0.2457405 ],\n",
       "        [ 0.0690427 ],\n",
       "        [-0.12403379],\n",
       "        [ 0.23550214],\n",
       "        [ 0.03178663],\n",
       "        [ 0.01079238],\n",
       "        [ 0.31355992],\n",
       "        [-0.1754602 ],\n",
       "        [-0.03066021],\n",
       "        [-0.20164645],\n",
       "        [-0.32396752],\n",
       "        [ 0.2101203 ],\n",
       "        [-0.18343902],\n",
       "        [ 0.26019332],\n",
       "        [ 0.28477708],\n",
       "        [ 0.2542395 ],\n",
       "        [-0.07480516],\n",
       "        [ 0.278333  ],\n",
       "        [ 0.08665761],\n",
       "        [-0.05841218],\n",
       "        [ 0.334213  ],\n",
       "        [-0.16339296],\n",
       "        [ 0.27074027],\n",
       "        [-0.14879826],\n",
       "        [ 0.06779032],\n",
       "        [ 0.00102811],\n",
       "        [-0.59595793],\n",
       "        [-0.03327356]], dtype=float32),\n",
       " array([0.01022639], dtype=float32),\n",
       " array([[1.2982596]], dtype=float32),\n",
       " array([0.], dtype=float32)]"
      ]
     },
     "execution_count": 211,
     "metadata": {},
     "output_type": "execute_result"
    }
   ],
   "source": [
    "model.get_weights()"
   ]
  },
  {
   "cell_type": "code",
   "execution_count": 212,
   "id": "c839ecaf-b8c7-449e-b7fb-46d2817a8760",
   "metadata": {},
   "outputs": [
    {
     "name": "stderr",
     "output_type": "stream",
     "text": [
      "WARNING:absl:You are saving your model as an HDF5 file via `model.save()` or `keras.saving.save_model(model)`. This file format is considered legacy. We recommend using instead the native Keras format, e.g. `model.save('my_model.keras')` or `keras.saving.save_model(model, 'my_model.keras')`. \n"
     ]
    }
   ],
   "source": [
    "model.save(\"google_stock_price_model.h5\")"
   ]
  },
  {
   "cell_type": "code",
   "execution_count": null,
   "id": "f04fc8ed-5634-440c-86b4-6285fcace405",
   "metadata": {},
   "outputs": [],
   "source": []
  }
 ],
 "metadata": {
  "kernelspec": {
   "display_name": "Python [conda env:base] *",
   "language": "python",
   "name": "conda-base-py"
  },
  "language_info": {
   "codemirror_mode": {
    "name": "ipython",
    "version": 3
   },
   "file_extension": ".py",
   "mimetype": "text/x-python",
   "name": "python",
   "nbconvert_exporter": "python",
   "pygments_lexer": "ipython3",
   "version": "3.12.4"
  }
 },
 "nbformat": 4,
 "nbformat_minor": 5
}
